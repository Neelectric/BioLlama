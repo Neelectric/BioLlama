{
 "cells": [
  {
   "cell_type": "markdown",
   "id": "fb384650",
   "metadata": {
    "papermill": {
     "duration": 0.002744,
     "end_time": "2024-01-23T11:00:30.590003",
     "exception": false,
     "start_time": "2024-01-23T11:00:30.587259",
     "status": "completed"
    },
    "tags": []
   },
   "source": [
    "This notebook is taken directly from https://github.com/tcapelle/llm_recipes/tree/main"
   ]
  },
  {
   "cell_type": "markdown",
   "id": "3c7c21b5-4457-481f-b2cc-fb20cdcbfbe3",
   "metadata": {
    "papermill": {
     "duration": 0.002782,
     "end_time": "2024-01-23T11:00:30.595085",
     "exception": false,
     "start_time": "2024-01-23T11:00:30.592303",
     "status": "completed"
    },
    "tags": []
   },
   "source": [
    "# From Llama to Alpaca: Finetunning and LLM with Weights & Biases\n",
    "In this notebooks you will learn how to finetune a pretrained LLama model on an Instruction dataset. We will use an updated version of the Alpaca dataset that, instead of davinci-003 (GPT3) generations uses GPT4 to get an even better instruction dataset! More details on the [official repo page](https://github.com/Instruction-Tuning-with-GPT-4/GPT-4-LLM#how-good-is-the-data)\n",
    "\n",
    "> This notebook requires a A100/A10 GPU with at least 24GB of memory. You could tweak the params down and run on a T4 but it would take very long time\n",
    "\n",
    "This notebooks has a companion project and [report](wandb.me/alpaca)"
   ]
  },
  {
   "cell_type": "code",
   "execution_count": 1,
   "id": "7744abe6",
   "metadata": {
    "execution": {
     "iopub.execute_input": "2024-01-23T11:00:30.600124Z",
     "iopub.status.busy": "2024-01-23T11:00:30.599990Z",
     "iopub.status.idle": "2024-01-23T11:00:30.601957Z",
     "shell.execute_reply": "2024-01-23T11:00:30.601738Z"
    },
    "papermill": {
     "duration": 0.005375,
     "end_time": "2024-01-23T11:00:30.602549",
     "exception": false,
     "start_time": "2024-01-23T11:00:30.597174",
     "status": "completed"
    },
    "tags": []
   },
   "outputs": [],
   "source": [
    "# !pip install wandb transformers trl datasets \"protobuf==3.20.3\" evaluate"
   ]
  },
  {
   "cell_type": "markdown",
   "id": "7693a36b-5cdc-4582-844b-8dd52fa522c5",
   "metadata": {
    "papermill": {
     "duration": 0.002054,
     "end_time": "2024-01-23T11:00:30.606674",
     "exception": false,
     "start_time": "2024-01-23T11:00:30.604620",
     "status": "completed"
    },
    "tags": []
   },
   "source": [
    "## With Huggingface TRL"
   ]
  },
  {
   "cell_type": "markdown",
   "id": "da04c0a5-f481-4364-880d-10c254388987",
   "metadata": {
    "papermill": {
     "duration": 0.002034,
     "end_time": "2024-01-23T11:00:30.610777",
     "exception": false,
     "start_time": "2024-01-23T11:00:30.608743",
     "status": "completed"
    },
    "tags": []
   },
   "source": [
    "Let's grab the Alpaca (GPT-4 curated instructions and outputs) dataset:"
   ]
  },
  {
   "cell_type": "code",
   "execution_count": 2,
   "id": "52ff363e-8a24-4085-9b7e-6564d106d2e9",
   "metadata": {
    "execution": {
     "iopub.execute_input": "2024-01-23T11:00:30.615515Z",
     "iopub.status.busy": "2024-01-23T11:00:30.615402Z",
     "iopub.status.idle": "2024-01-23T11:00:30.672941Z",
     "shell.execute_reply": "2024-01-23T11:00:30.672615Z"
    },
    "papermill": {
     "duration": 0.060849,
     "end_time": "2024-01-23T11:00:30.673694",
     "exception": false,
     "start_time": "2024-01-23T11:00:30.612845",
     "status": "completed"
    },
    "tags": []
   },
   "outputs": [
    {
     "name": "stdout",
     "output_type": "stream",
     "text": [
      "Loading Benchmark from MedQA-USMLE/US/train.jsonl\n",
      "Benchmark contains 10178 questions, made up of 10178 with 5 options and 0 with non-5 options\n"
     ]
    }
   ],
   "source": [
    "# !wget https://raw.githubusercontent.com/Instruction-Tuning-with-GPT-4/GPT-4-LLM/main/data/alpaca_gpt4_data.json\n",
    "# from uparse_benchmark import parse_benchmark\n",
    "# from ..utilities.parse_benchmark import parse_benchmark\n",
    "from utilities.parse_benchmark import parse_benchmark\n",
    "\n",
    "benchmark = \"MedQA\"\n",
    "benchmark_questions, benchmark_answers = parse_benchmark(benchmark)\n",
    "# print(benchmark_questions[0])\n",
    "# print(benchmark_answers[0])"
   ]
  },
  {
   "cell_type": "code",
   "execution_count": 3,
   "id": "a154f968-da0f-4bdc-bf45-e499d95f0606",
   "metadata": {
    "execution": {
     "iopub.execute_input": "2024-01-23T11:00:30.678755Z",
     "iopub.status.busy": "2024-01-23T11:00:30.678639Z",
     "iopub.status.idle": "2024-01-23T11:00:35.512210Z",
     "shell.execute_reply": "2024-01-23T11:00:35.511903Z"
    },
    "papermill": {
     "duration": 4.836949,
     "end_time": "2024-01-23T11:00:35.513020",
     "exception": false,
     "start_time": "2024-01-23T11:00:30.676071",
     "status": "completed"
    },
    "tags": []
   },
   "outputs": [
    {
     "name": "stderr",
     "output_type": "stream",
     "text": [
      "\u001b[34m\u001b[1mwandb\u001b[0m: Currently logged in as: \u001b[33mnelectric\u001b[0m (\u001b[33mneelectric\u001b[0m). Use \u001b[1m`wandb login --relogin`\u001b[0m to force relogin\n"
     ]
    },
    {
     "name": "stderr",
     "output_type": "stream",
     "text": [
      "\u001b[34m\u001b[1mwandb\u001b[0m: wandb version 0.16.2 is available!  To upgrade, please run:\n",
      "\u001b[34m\u001b[1mwandb\u001b[0m:  $ pip install wandb --upgrade\n"
     ]
    },
    {
     "name": "stderr",
     "output_type": "stream",
     "text": [
      "\u001b[34m\u001b[1mwandb\u001b[0m: Tracking run with wandb version 0.16.1\n"
     ]
    },
    {
     "name": "stderr",
     "output_type": "stream",
     "text": [
      "\u001b[34m\u001b[1mwandb\u001b[0m: Run data is saved locally in \u001b[35m\u001b[1m/home/service/BioLlama/wandb/run-20240123_110031-lwhpsmj1\u001b[0m\n",
      "\u001b[34m\u001b[1mwandb\u001b[0m: Run \u001b[1m`wandb offline`\u001b[0m to turn off syncing.\n"
     ]
    },
    {
     "name": "stderr",
     "output_type": "stream",
     "text": [
      "\u001b[34m\u001b[1mwandb\u001b[0m: Syncing run \u001b[33msolar-waterfall-16\u001b[0m\n"
     ]
    },
    {
     "name": "stderr",
     "output_type": "stream",
     "text": [
      "\u001b[34m\u001b[1mwandb\u001b[0m: ⭐️ View project at \u001b[34m\u001b[4mhttps://wandb.ai/neelectric/biollama_ft\u001b[0m\n"
     ]
    },
    {
     "name": "stderr",
     "output_type": "stream",
     "text": [
      "\u001b[34m\u001b[1mwandb\u001b[0m: 🚀 View run at \u001b[34m\u001b[4mhttps://wandb.ai/neelectric/biollama_ft/runs/lwhpsmj1\u001b[0m\n"
     ]
    },
    {
     "data": {
      "text/html": [
       "<button onClick=\"this.nextSibling.style.display='block';this.style.display='none';\">Display W&B run</button><iframe src='https://wandb.ai/neelectric/biollama_ft/runs/lwhpsmj1?jupyter=true' style='border:none;width:100%;height:420px;display:none;'></iframe>"
      ],
      "text/plain": [
       "<wandb.sdk.wandb_run.Run at 0x7f0fe4652990>"
      ]
     },
     "execution_count": 3,
     "metadata": {},
     "output_type": "execute_result"
    }
   ],
   "source": [
    "import wandb\n",
    "wandb.init(project=\"biollama_ft\", # the project I am working on\n",
    "           tags=[\"hf_sft\"]) # the Hyperparameters I want to keep track of\n",
    "# artifact = wandb.use_artifact('Neelectric/MedQA-USMLE', type='dataset')\n",
    "# artifact_dir = artifact.download()"
   ]
  },
  {
   "cell_type": "code",
   "execution_count": 4,
   "id": "811291cc-b7ce-422a-8971-3cbf9fe10a7f",
   "metadata": {
    "execution": {
     "iopub.execute_input": "2024-01-23T11:00:35.527254Z",
     "iopub.status.busy": "2024-01-23T11:00:35.527084Z",
     "iopub.status.idle": "2024-01-23T11:00:36.320688Z",
     "shell.execute_reply": "2024-01-23T11:00:36.320403Z"
    },
    "papermill": {
     "duration": 0.80435,
     "end_time": "2024-01-23T11:00:36.321567",
     "exception": false,
     "start_time": "2024-01-23T11:00:35.517217",
     "status": "completed"
    },
    "tags": []
   },
   "outputs": [
    {
     "name": "stderr",
     "output_type": "stream",
     "text": [
      "/home/service/miniconda3/envs/llm_research/lib/python3.11/site-packages/tqdm/auto.py:21: TqdmWarning: IProgress not found. Please update jupyter and ipywidgets. See https://ipywidgets.readthedocs.io/en/stable/user_install.html\n",
      "  from .autonotebook import tqdm as notebook_tqdm\n"
     ]
    }
   ],
   "source": [
    "import os\n",
    "# print(artifact_dir)\n",
    "artifact_dir = os.getcwd() + \"/benchmarks/MedQA-USMLE/\"\n",
    "from datasets import load_dataset\n",
    "#dataset = load_dataset(\"Neelectric/MedQA-USMLE\")\n",
    "medqa = load_dataset(\"json\", data_dir=artifact_dir)"
   ]
  },
  {
   "cell_type": "code",
   "execution_count": 5,
   "id": "7a9e0ed7-375f-431a-9420-0022cf5566f8",
   "metadata": {
    "execution": {
     "iopub.execute_input": "2024-01-23T11:00:36.334509Z",
     "iopub.status.busy": "2024-01-23T11:00:36.334278Z",
     "iopub.status.idle": "2024-01-23T11:00:36.336655Z",
     "shell.execute_reply": "2024-01-23T11:00:36.336443Z"
    },
    "papermill": {
     "duration": 0.011719,
     "end_time": "2024-01-23T11:00:36.337171",
     "exception": false,
     "start_time": "2024-01-23T11:00:36.325452",
     "status": "completed"
    },
    "tags": []
   },
   "outputs": [
    {
     "data": {
      "text/plain": [
       "DatasetDict({\n",
       "    train: Dataset({\n",
       "        features: ['question', 'answer', 'options', 'meta_info', 'answer_idx'],\n",
       "        num_rows: 10178\n",
       "    })\n",
       "    validation: Dataset({\n",
       "        features: ['question', 'answer', 'options', 'meta_info', 'answer_idx'],\n",
       "        num_rows: 1272\n",
       "    })\n",
       "    test: Dataset({\n",
       "        features: ['question', 'answer', 'options', 'meta_info', 'answer_idx'],\n",
       "        num_rows: 1273\n",
       "    })\n",
       "})"
      ]
     },
     "execution_count": 5,
     "metadata": {},
     "output_type": "execute_result"
    }
   ],
   "source": [
    "medqa"
   ]
  },
  {
   "cell_type": "markdown",
   "id": "26cb96e0-b2f2-4a79-ba65-e1c8d6395d54",
   "metadata": {
    "papermill": {
     "duration": 0.003466,
     "end_time": "2024-01-23T11:00:36.344145",
     "exception": false,
     "start_time": "2024-01-23T11:00:36.340679",
     "status": "completed"
    },
    "tags": []
   },
   "source": [
    "Let's log the dataset also as a table so we can inspect it on the workspace."
   ]
  },
  {
   "cell_type": "code",
   "execution_count": 6,
   "id": "4c7dda87-d70a-470b-a0f9-040af434dc42",
   "metadata": {
    "execution": {
     "iopub.execute_input": "2024-01-23T11:00:36.350888Z",
     "iopub.status.busy": "2024-01-23T11:00:36.350802Z",
     "iopub.status.idle": "2024-01-23T11:00:36.353142Z",
     "shell.execute_reply": "2024-01-23T11:00:36.352955Z"
    },
    "papermill": {
     "duration": 0.006051,
     "end_time": "2024-01-23T11:00:36.353635",
     "exception": false,
     "start_time": "2024-01-23T11:00:36.347584",
     "status": "completed"
    },
    "tags": []
   },
   "outputs": [
    {
     "name": "stdout",
     "output_type": "stream",
     "text": [
      "10178\n",
      "1273\n"
     ]
    }
   ],
   "source": [
    "train_dataset = medqa[\"train\"]\n",
    "eval_dataset = medqa[\"test\"]\n",
    "#print sizes\n",
    "print(len(train_dataset))\n",
    "print(len(eval_dataset))\n",
    "# turn both of these into only half their size\n",
    "# train_dataset = train_dataset.select(range(0, len(train_dataset)//2))\n",
    "# eval_dataset = eval_dataset.select(range(0, len(eval_dataset)//2))\n",
    "\n",
    "# print(len(train_dataset))\n",
    "# print(len(eval_dataset))"
   ]
  },
  {
   "cell_type": "code",
   "execution_count": 7,
   "id": "a038eb64",
   "metadata": {
    "execution": {
     "iopub.execute_input": "2024-01-23T11:00:36.358863Z",
     "iopub.status.busy": "2024-01-23T11:00:36.358750Z",
     "iopub.status.idle": "2024-01-23T11:00:36.361310Z",
     "shell.execute_reply": "2024-01-23T11:00:36.361145Z"
    },
    "papermill": {
     "duration": 0.005825,
     "end_time": "2024-01-23T11:00:36.361816",
     "exception": false,
     "start_time": "2024-01-23T11:00:36.355991",
     "status": "completed"
    },
    "tags": []
   },
   "outputs": [
    {
     "data": {
      "text/plain": [
       "'You are an excellently helpful AI assistant that answers biomedical questions. <QUESTION>A 23-year-old pregnant woman at 22 weeks gestation presents with burning upon urination. She states it started 1 day ago and has been worsening despite drinking more water and taking cranberry extract. She otherwise feels well and is followed by a doctor for her pregnancy. Her temperature is 97.7°F (36.5°C), blood pressure is 122/77 mmHg, pulse is 80/min, respirations are 19/min, and oxygen saturation is 98% on room air. Physical exam is notable for an absence of costovertebral angle tenderness and a gravid uterus. Which of the following is the best treatment for this patient? \\n (A) Ampicillin\\n (B) Ceftriaxone\\n (C) Ciprofloxacin\\n (D) Doxycycline\\n (E) Nitrofurantoin</QUESTION>\\n<ANSWER> (E) Nitrofurantoin</ANSWER>'"
      ]
     },
     "execution_count": 7,
     "metadata": {},
     "output_type": "execute_result"
    }
   ],
   "source": [
    "def create_prompt(row):\n",
    "    option_string = \"\"\n",
    "    for option in row[\"options\"].keys():\n",
    "        option_string += \"\\n (\" + option + \") \" + row[\"options\"][option]\n",
    "    row[\"option_string\"] = option_string\n",
    "    return (\"You are an excellently helpful AI assistant that answers biomedical questions. \"\n",
    "            \"<QUESTION>{question} {option_string}</QUESTION>\\n<ANSWER> ({answer_idx}) {answer}</ANSWER>\").format_map(row)\n",
    "create_prompt(train_dataset[0])"
   ]
  },
  {
   "cell_type": "code",
   "execution_count": 8,
   "id": "d8f1a9c1",
   "metadata": {
    "execution": {
     "iopub.execute_input": "2024-01-23T11:00:36.367281Z",
     "iopub.status.busy": "2024-01-23T11:00:36.367077Z",
     "iopub.status.idle": "2024-01-23T11:00:36.370994Z",
     "shell.execute_reply": "2024-01-23T11:00:36.370839Z"
    },
    "papermill": {
     "duration": 0.007239,
     "end_time": "2024-01-23T11:00:36.371509",
     "exception": false,
     "start_time": "2024-01-23T11:00:36.364270",
     "status": "completed"
    },
    "tags": []
   },
   "outputs": [
    {
     "data": {
      "text/plain": [
       "'You are an excellently helpful AI assistant that answers biomedical questions. <QUESTION>A junior orthopaedic surgery resident is completing a carpal tunnel repair with the department chairman as the attending physician. During the case, the resident inadvertently cuts a flexor tendon. The tendon is repaired without complication. The attending tells the resident that the patient will do fine, and there is no need to report this minor complication that will not harm the patient, as he does not want to make the patient worry unnecessarily. He tells the resident to leave this complication out of the operative report. Which of the following is the correct next action for the resident to take? \\n (A) Disclose the error to the patient but leave it out of the operative report\\n (B) Disclose the error to the patient and put it in the operative report\\n (C) Tell the attending that he cannot fail to disclose this mistake\\n (D) Report the physician to the ethics committee\\n (E) Refuse to dictate the operative report</QUESTION>\\n<ANSWER> '"
      ]
     },
     "execution_count": 8,
     "metadata": {},
     "output_type": "execute_result"
    }
   ],
   "source": [
    "def return_prompt_no_answer(row):\n",
    "    option_string = \"\"\n",
    "    for option in row[\"options\"].keys():\n",
    "        option_string += \"\\n (\" + option + \") \" + row[\"options\"][option]\n",
    "    row[\"option_string\"] = option_string\n",
    "    return (\"You are an excellently helpful AI assistant that answers biomedical questions. \"\n",
    "            \"<QUESTION>{question} {option_string}</QUESTION>\\n<ANSWER> \").format_map(row)\n",
    "\n",
    "def create_prompt_no_answer(row):\n",
    "    return {\"text\": return_prompt_no_answer(row)}\n",
    "    \n",
    "test_dataset = eval_dataset.map(create_prompt_no_answer)\n",
    "test_dataset[0][\"text\"]"
   ]
  },
  {
   "cell_type": "code",
   "execution_count": 9,
   "id": "720c707b-3bce-4164-b8c1-3c3122200c39",
   "metadata": {
    "execution": {
     "iopub.execute_input": "2024-01-23T11:00:36.376954Z",
     "iopub.status.busy": "2024-01-23T11:00:36.376857Z",
     "iopub.status.idle": "2024-01-23T11:00:37.136747Z",
     "shell.execute_reply": "2024-01-23T11:00:37.136327Z"
    },
    "papermill": {
     "duration": 0.764036,
     "end_time": "2024-01-23T11:00:37.137999",
     "exception": false,
     "start_time": "2024-01-23T11:00:36.373963",
     "status": "completed"
    },
    "tags": []
   },
   "outputs": [],
   "source": [
    "import torch\n",
    "# from cti.transformers.transformers.src.transformers.models.auto import AutoModelForCausalLM, AutoTokenizer\n",
    "from transformers import AutoModelForCausalLM, AutoTokenizer"
   ]
  },
  {
   "cell_type": "code",
   "execution_count": 10,
   "id": "4162aec8-f2ba-45db-9633-817b416d4e57",
   "metadata": {
    "execution": {
     "iopub.execute_input": "2024-01-23T11:00:37.149917Z",
     "iopub.status.busy": "2024-01-23T11:00:37.149706Z",
     "iopub.status.idle": "2024-01-23T11:00:37.151666Z",
     "shell.execute_reply": "2024-01-23T11:00:37.151397Z"
    },
    "papermill": {
     "duration": 0.011473,
     "end_time": "2024-01-23T11:00:37.152266",
     "exception": false,
     "start_time": "2024-01-23T11:00:37.140793",
     "status": "completed"
    },
    "tags": []
   },
   "outputs": [],
   "source": [
    "model_id = 'meta-llama/Llama-2-7b-hf'"
   ]
  },
  {
   "cell_type": "code",
   "execution_count": 11,
   "id": "51c10f7f-2551-4aa4-aef2-29c888b57a12",
   "metadata": {
    "execution": {
     "iopub.execute_input": "2024-01-23T11:00:37.157717Z",
     "iopub.status.busy": "2024-01-23T11:00:37.157605Z",
     "iopub.status.idle": "2024-01-23T11:00:40.595195Z",
     "shell.execute_reply": "2024-01-23T11:00:40.594856Z"
    },
    "papermill": {
     "duration": 3.441283,
     "end_time": "2024-01-23T11:00:40.596030",
     "exception": false,
     "start_time": "2024-01-23T11:00:37.154747",
     "status": "completed"
    },
    "tags": []
   },
   "outputs": [
    {
     "name": "stderr",
     "output_type": "stream",
     "text": [
      "\r",
      "Loading checkpoint shards:   0%|                                                                                                                                                                                       | 0/2 [00:00<?, ?it/s]"
     ]
    },
    {
     "name": "stderr",
     "output_type": "stream",
     "text": [
      "\r",
      "Loading checkpoint shards:  50%|███████████████████████████████████████████████████████████████████████████████████████▌                                                                                       | 1/2 [00:01<00:01,  1.81s/it]"
     ]
    },
    {
     "name": "stderr",
     "output_type": "stream",
     "text": [
      "\r",
      "Loading checkpoint shards: 100%|███████████████████████████████████████████████████████████████████████████████████████████████████████████████████████████████████████████████████████████████████████████████| 2/2 [00:02<00:00,  1.15s/it]"
     ]
    },
    {
     "name": "stderr",
     "output_type": "stream",
     "text": [
      "\r",
      "Loading checkpoint shards: 100%|███████████████████████████████████████████████████████████████████████████████████████████████████████████████████████████████████████████████████████████████████████████████| 2/2 [00:02<00:00,  1.25s/it]"
     ]
    },
    {
     "name": "stderr",
     "output_type": "stream",
     "text": [
      "\n"
     ]
    }
   ],
   "source": [
    "model = AutoModelForCausalLM.from_pretrained(\n",
    "    model_id,\n",
    "    device_map=\"auto\",\n",
    "    trust_remote_code=True,\n",
    "    low_cpu_mem_usage=True,\n",
    "    torch_dtype=torch.bfloat16,\n",
    "    # load_in_4bit = True, # this causes \"RuntimeError: only Tensors of floating point and complex dtype can require gradients\"\n",
    ")"
   ]
  },
  {
   "cell_type": "markdown",
   "id": "f79dbbb0-6dac-4f78-a862-8201088c9d57",
   "metadata": {
    "papermill": {
     "duration": 0.008442,
     "end_time": "2024-01-23T11:00:40.609298",
     "exception": false,
     "start_time": "2024-01-23T11:00:40.600856",
     "status": "completed"
    },
    "tags": []
   },
   "source": [
    "Training the full models is expensive, but if you have a GPU that can fit the full model, you can skip this part. Let's just train the last 8 layers of the model (Llama2-7B has 32)"
   ]
  },
  {
   "cell_type": "code",
   "execution_count": 12,
   "id": "4c4de41e-5c10-478b-9524-f4a3119d277c",
   "metadata": {
    "execution": {
     "iopub.execute_input": "2024-01-23T11:00:40.618636Z",
     "iopub.status.busy": "2024-01-23T11:00:40.618512Z",
     "iopub.status.idle": "2024-01-23T11:00:40.621334Z",
     "shell.execute_reply": "2024-01-23T11:00:40.621040Z"
    },
    "papermill": {
     "duration": 0.008515,
     "end_time": "2024-01-23T11:00:40.622164",
     "exception": false,
     "start_time": "2024-01-23T11:00:40.613649",
     "status": "completed"
    },
    "tags": []
   },
   "outputs": [],
   "source": [
    "n_freeze = 15\n",
    "\n",
    "# freeze layers (disable gradients)\n",
    "for param in model.parameters(): param.requires_grad = False\n",
    "for param in model.lm_head.parameters(): param.requires_grad = True\n",
    "for param in model.model.layers[n_freeze].parameters(): param.requires_grad = True"
   ]
  },
  {
   "cell_type": "code",
   "execution_count": 13,
   "id": "fd7fc941-65dc-4dee-839d-351bd019a2fb",
   "metadata": {
    "execution": {
     "iopub.execute_input": "2024-01-23T11:00:40.631282Z",
     "iopub.status.busy": "2024-01-23T11:00:40.631174Z",
     "iopub.status.idle": "2024-01-23T11:00:40.633379Z",
     "shell.execute_reply": "2024-01-23T11:00:40.633010Z"
    },
    "papermill": {
     "duration": 0.007686,
     "end_time": "2024-01-23T11:00:40.634214",
     "exception": false,
     "start_time": "2024-01-23T11:00:40.626528",
     "status": "completed"
    },
    "tags": []
   },
   "outputs": [],
   "source": [
    "# Just freeze embeddings for small memory decrease\n",
    "model.model.embed_tokens.weight.requires_grad_(False);"
   ]
  },
  {
   "cell_type": "code",
   "execution_count": 14,
   "id": "fc6c3959-854c-409e-9037-b5c87a6adce5",
   "metadata": {
    "execution": {
     "iopub.execute_input": "2024-01-23T11:00:40.643427Z",
     "iopub.status.busy": "2024-01-23T11:00:40.643295Z",
     "iopub.status.idle": "2024-01-23T11:00:40.648096Z",
     "shell.execute_reply": "2024-01-23T11:00:40.647734Z"
    },
    "papermill": {
     "duration": 0.010406,
     "end_time": "2024-01-23T11:00:40.648934",
     "exception": false,
     "start_time": "2024-01-23T11:00:40.638528",
     "status": "completed"
    },
    "scrolled": true,
    "tags": []
   },
   "outputs": [
    {
     "name": "stdout",
     "output_type": "stream",
     "text": [
      "Total params: 6738.42M, Trainable: 333.46M\n"
     ]
    }
   ],
   "source": [
    "def param_count(m):\n",
    "    params = sum([p.numel() for p in m.parameters()])/1_000_000\n",
    "    trainable_params = sum([p.numel() for p in m.parameters() if p.requires_grad])/1_000_000\n",
    "    print(f\"Total params: {params:.2f}M, Trainable: {trainable_params:.2f}M\")\n",
    "    return params, trainable_params\n",
    "\n",
    "params, trainable_params = param_count(model)"
   ]
  },
  {
   "cell_type": "code",
   "execution_count": 15,
   "id": "5f9c99da",
   "metadata": {
    "execution": {
     "iopub.execute_input": "2024-01-23T11:00:40.658167Z",
     "iopub.status.busy": "2024-01-23T11:00:40.658030Z",
     "iopub.status.idle": "2024-01-23T11:00:40.660540Z",
     "shell.execute_reply": "2024-01-23T11:00:40.660177Z"
    },
    "papermill": {
     "duration": 0.0082,
     "end_time": "2024-01-23T11:00:40.661391",
     "exception": false,
     "start_time": "2024-01-23T11:00:40.653191",
     "status": "completed"
    },
    "tags": []
   },
   "outputs": [
    {
     "name": "stdout",
     "output_type": "stream",
     "text": [
      "2.1.2+cu121\n"
     ]
    }
   ],
   "source": [
    "import torch\n",
    "print(torch.__version__)"
   ]
  },
  {
   "cell_type": "code",
   "execution_count": 16,
   "id": "ac3525d7-3028-499e-8749-c6fbc21a26d5",
   "metadata": {
    "execution": {
     "iopub.execute_input": "2024-01-23T11:00:40.671106Z",
     "iopub.status.busy": "2024-01-23T11:00:40.670723Z",
     "iopub.status.idle": "2024-01-23T11:00:40.847613Z",
     "shell.execute_reply": "2024-01-23T11:00:40.847247Z"
    },
    "papermill": {
     "duration": 0.182948,
     "end_time": "2024-01-23T11:00:40.848690",
     "exception": false,
     "start_time": "2024-01-23T11:00:40.665742",
     "status": "completed"
    },
    "tags": []
   },
   "outputs": [],
   "source": [
    "# from transformers import TrainingArguments\n",
    "from trl import SFTTrainer"
   ]
  },
  {
   "cell_type": "code",
   "execution_count": 17,
   "id": "4c57893e-6e42-4cda-83c8-1e51a86d2da2",
   "metadata": {
    "execution": {
     "iopub.execute_input": "2024-01-23T11:00:40.863273Z",
     "iopub.status.busy": "2024-01-23T11:00:40.862982Z",
     "iopub.status.idle": "2024-01-23T11:00:40.865803Z",
     "shell.execute_reply": "2024-01-23T11:00:40.865573Z"
    },
    "papermill": {
     "duration": 0.013102,
     "end_time": "2024-01-23T11:00:40.866557",
     "exception": false,
     "start_time": "2024-01-23T11:00:40.853455",
     "status": "completed"
    },
    "tags": []
   },
   "outputs": [
    {
     "name": "stdout",
     "output_type": "stream",
     "text": [
      "350\n",
      "changing total batch size to 1050\n"
     ]
    }
   ],
   "source": [
    "batch_size = 32\n",
    "\n",
    "total_num_steps = 11_210 // batch_size\n",
    "print(total_num_steps)\n",
    "\n",
    "total_num_steps = total_num_steps * 3\n",
    "print(f\"changing total batch size to {total_num_steps}\")"
   ]
  },
  {
   "cell_type": "code",
   "execution_count": 18,
   "id": "154326d0",
   "metadata": {
    "execution": {
     "iopub.execute_input": "2024-01-23T11:00:40.876042Z",
     "iopub.status.busy": "2024-01-23T11:00:40.875936Z",
     "iopub.status.idle": "2024-01-23T11:00:40.877582Z",
     "shell.execute_reply": "2024-01-23T11:00:40.877359Z"
    },
    "papermill": {
     "duration": 0.007267,
     "end_time": "2024-01-23T11:00:40.878352",
     "exception": false,
     "start_time": "2024-01-23T11:00:40.871085",
     "status": "completed"
    },
    "tags": []
   },
   "outputs": [],
   "source": [
    "# from cti.transformers.transformers.src.transformers import TrainingArguments"
   ]
  },
  {
   "cell_type": "code",
   "execution_count": 19,
   "id": "098dea68",
   "metadata": {
    "execution": {
     "iopub.execute_input": "2024-01-23T11:00:40.887936Z",
     "iopub.status.busy": "2024-01-23T11:00:40.887832Z",
     "iopub.status.idle": "2024-01-23T11:00:40.889446Z",
     "shell.execute_reply": "2024-01-23T11:00:40.889223Z"
    },
    "papermill": {
     "duration": 0.007367,
     "end_time": "2024-01-23T11:00:40.890216",
     "exception": false,
     "start_time": "2024-01-23T11:00:40.882849",
     "status": "completed"
    },
    "tags": []
   },
   "outputs": [],
   "source": [
    "# !pip uninstall torch_xla -y\n",
    "# !pip install -i https://pip.repos.neuron.amazonaws.com torch-xla"
   ]
  },
  {
   "cell_type": "code",
   "execution_count": 20,
   "id": "c86339ca-27e5-496b-9559-3a65bb3c26a1",
   "metadata": {
    "execution": {
     "iopub.execute_input": "2024-01-23T11:00:40.899673Z",
     "iopub.status.busy": "2024-01-23T11:00:40.899569Z",
     "iopub.status.idle": "2024-01-23T11:00:40.902541Z",
     "shell.execute_reply": "2024-01-23T11:00:40.902332Z"
    },
    "papermill": {
     "duration": 0.008666,
     "end_time": "2024-01-23T11:00:40.903301",
     "exception": false,
     "start_time": "2024-01-23T11:00:40.894635",
     "status": "completed"
    },
    "tags": []
   },
   "outputs": [],
   "source": [
    "from transformers import TrainingArguments\n",
    "output_dir = \"/home/service/BioLlama/utilities/finetuning/finetuned_models/\"\n",
    "training_args = TrainingArguments(\n",
    "    output_dir=output_dir,\n",
    "    per_device_train_batch_size=batch_size,\n",
    "    per_device_eval_batch_size=batch_size//4,\n",
    "    bf16=True,\n",
    "    learning_rate=2e-4,\n",
    "    lr_scheduler_type=\"cosine\",\n",
    "    warmup_steps=total_num_steps // 10,\n",
    "    # num_train_epochs=1,\n",
    "    max_steps=total_num_steps,\n",
    "    gradient_accumulation_steps=1,\n",
    "    gradient_checkpointing=True,\n",
    "    evaluation_strategy=\"steps\",\n",
    "    eval_steps=total_num_steps // 3,\n",
    "    # logging strategies\n",
    "    logging_dir=f\"{output_dir}/logs\",\n",
    "    logging_strategy=\"steps\",\n",
    "    logging_steps=1,\n",
    "    save_strategy=\"epoch\", #changed to epoch so we save every epoch i guess?\n",
    ")"
   ]
  },
  {
   "cell_type": "code",
   "execution_count": null,
   "id": "eb13c056",
   "metadata": {
    "papermill": {
     "duration": 0.004439,
     "end_time": "2024-01-23T11:00:40.912137",
     "exception": false,
     "start_time": "2024-01-23T11:00:40.907698",
     "status": "completed"
    },
    "tags": []
   },
   "outputs": [],
   "source": []
  },
  {
   "cell_type": "code",
   "execution_count": 21,
   "id": "e35a9b70-f36b-4bfd-857f-c80d3450e111",
   "metadata": {
    "execution": {
     "iopub.execute_input": "2024-01-23T11:00:40.921663Z",
     "iopub.status.busy": "2024-01-23T11:00:40.921437Z",
     "iopub.status.idle": "2024-01-23T11:00:41.159643Z",
     "shell.execute_reply": "2024-01-23T11:00:41.159282Z"
    },
    "papermill": {
     "duration": 0.243998,
     "end_time": "2024-01-23T11:00:41.160518",
     "exception": false,
     "start_time": "2024-01-23T11:00:40.916520",
     "status": "completed"
    },
    "tags": []
   },
   "outputs": [
    {
     "name": "stderr",
     "output_type": "stream",
     "text": [
      "/home/service/miniconda3/envs/llm_research/lib/python3.11/site-packages/trl/trainer/utils.py:246: UserWarning: The passed formatting_func has more than one argument. Usually that function should have a single argument `example` which corresponds to the dictonnary returned by each element of the dataset. Make sure you know what you are doing.\n",
      "  warnings.warn(\n",
      "/home/service/miniconda3/envs/llm_research/lib/python3.11/site-packages/trl/trainer/sft_trainer.py:212: UserWarning: You passed `packing=True` to the SFTTrainer, and you are training your model with `max_steps` strategy. The dataset will be iterated until the `max_steps` are reached.\n",
      "  warnings.warn(\n"
     ]
    }
   ],
   "source": [
    "# from utils import LLMSampleCB, token_accuracy\n",
    "\n",
    "trainer = SFTTrainer(\n",
    "    model,\n",
    "    train_dataset=train_dataset,\n",
    "    eval_dataset=eval_dataset,\n",
    "    packing=True,\n",
    "    max_seq_length=1024,\n",
    "    args=training_args,\n",
    "    formatting_func=create_prompt,\n",
    "    # compute_metrics=token_accuracy,\n",
    ")"
   ]
  },
  {
   "cell_type": "code",
   "execution_count": null,
   "id": "6f7b129b",
   "metadata": {
    "papermill": {
     "duration": 0.00922,
     "end_time": "2024-01-23T11:00:41.174506",
     "exception": false,
     "start_time": "2024-01-23T11:00:41.165286",
     "status": "completed"
    },
    "tags": []
   },
   "outputs": [],
   "source": []
  },
  {
   "cell_type": "code",
   "execution_count": 22,
   "id": "df6d1457-3c7a-47e6-994b-334dbe9c3d5e",
   "metadata": {
    "execution": {
     "iopub.execute_input": "2024-01-23T11:00:41.184903Z",
     "iopub.status.busy": "2024-01-23T11:00:41.184743Z",
     "iopub.status.idle": "2024-01-23T11:00:41.186609Z",
     "shell.execute_reply": "2024-01-23T11:00:41.186372Z"
    },
    "papermill": {
     "duration": 0.007937,
     "end_time": "2024-01-23T11:00:41.187266",
     "exception": false,
     "start_time": "2024-01-23T11:00:41.179329",
     "status": "completed"
    },
    "tags": []
   },
   "outputs": [],
   "source": [
    "# trainer.add_callback(wandb_callback)"
   ]
  },
  {
   "cell_type": "code",
   "execution_count": 23,
   "id": "d5754789-2e15-4bc9-800c-01f8ffc625e8",
   "metadata": {
    "execution": {
     "iopub.execute_input": "2024-01-23T11:00:41.215400Z",
     "iopub.status.busy": "2024-01-23T11:00:41.215296Z",
     "iopub.status.idle": "2024-01-23T12:07:57.843602Z",
     "shell.execute_reply": "2024-01-23T12:07:57.843162Z"
    },
    "papermill": {
     "duration": 4036.653071,
     "end_time": "2024-01-23T12:07:57.844805",
     "exception": false,
     "start_time": "2024-01-23T11:00:41.191734",
     "status": "completed"
    },
    "tags": []
   },
   "outputs": [
    {
     "name": "stderr",
     "output_type": "stream",
     "text": [
      "You're using a LlamaTokenizerFast tokenizer. Please note that with a fast tokenizer, using the `__call__` method is faster than using a method to encode the text followed by a call to the `pad` method to get a padded encoding.\n"
     ]
    },
    {
     "name": "stderr",
     "output_type": "stream",
     "text": [
      "`use_cache=True` is incompatible with gradient checkpointing. Setting `use_cache=False`...\n"
     ]
    },
    {
     "name": "stderr",
     "output_type": "stream",
     "text": [
      "/home/service/miniconda3/envs/llm_research/lib/python3.11/site-packages/torch/utils/checkpoint.py:429: UserWarning: torch.utils.checkpoint: please pass in use_reentrant=True or use_reentrant=False explicitly. The default value of use_reentrant will be updated to be False in the future. To maintain current behavior, pass use_reentrant=True. It is recommended that you use use_reentrant=False. Refer to docs for more details on the differences between the two variants.\n",
      "  warnings.warn(\n",
      "/home/service/miniconda3/envs/llm_research/lib/python3.11/site-packages/torch/utils/checkpoint.py:61: UserWarning: None of the inputs have requires_grad=True. Gradients will be None\n",
      "  warnings.warn(\n"
     ]
    },
    {
     "data": {
      "text/html": [
       "\n",
       "    <div>\n",
       "      \n",
       "      <progress value='1050' max='1050' style='width:300px; height:20px; vertical-align: middle;'></progress>\n",
       "      [1050/1050 1:07:07, Epoch 3/4]\n",
       "    </div>\n",
       "    <table border=\"1\" class=\"dataframe\">\n",
       "  <thead>\n",
       " <tr style=\"text-align: left;\">\n",
       "      <th>Step</th>\n",
       "      <th>Training Loss</th>\n",
       "      <th>Validation Loss</th>\n",
       "    </tr>\n",
       "  </thead>\n",
       "  <tbody>\n",
       "    <tr>\n",
       "      <td>350</td>\n",
       "      <td>0.881600</td>\n",
       "      <td>0.996718</td>\n",
       "    </tr>\n",
       "    <tr>\n",
       "      <td>700</td>\n",
       "      <td>0.809600</td>\n",
       "      <td>0.981160</td>\n",
       "    </tr>\n",
       "    <tr>\n",
       "      <td>1050</td>\n",
       "      <td>0.806200</td>\n",
       "      <td>0.979813</td>\n",
       "    </tr>\n",
       "  </tbody>\n",
       "</table><p>"
      ],
      "text/plain": [
       "<IPython.core.display.HTML object>"
      ]
     },
     "metadata": {},
     "output_type": "display_data"
    },
    {
     "name": "stderr",
     "output_type": "stream",
     "text": [
      "/home/service/miniconda3/envs/llm_research/lib/python3.11/site-packages/trl/trainer/utils.py:268: UserWarning: The dataset reached end and the iterator is reset to the start.\n",
      "  warnings.warn(\"The dataset reached end and the iterator is reset to the start.\")\n"
     ]
    },
    {
     "name": "stderr",
     "output_type": "stream",
     "text": [
      "wandb: WARNING No program path found, not creating job artifact. See https://docs.wandb.ai/guides/launch/create-job\n"
     ]
    },
    {
     "name": "stderr",
     "output_type": "stream",
     "text": [
      "\u001b[34m\u001b[1mwandb\u001b[0m: - 0.004 MB of 0.004 MB uploaded\r"
     ]
    },
    {
     "name": "stderr",
     "output_type": "stream",
     "text": [
      "\u001b[34m\u001b[1mwandb\u001b[0m: \\ 0.004 MB of 0.004 MB uploaded\r"
     ]
    },
    {
     "name": "stderr",
     "output_type": "stream",
     "text": [
      "\u001b[34m\u001b[1mwandb\u001b[0m: | 0.031 MB of 0.031 MB uploaded\r"
     ]
    },
    {
     "name": "stderr",
     "output_type": "stream",
     "text": [
      "\u001b[34m\u001b[1mwandb\u001b[0m:                                                                                \n"
     ]
    },
    {
     "name": "stderr",
     "output_type": "stream",
     "text": [
      "\u001b[34m\u001b[1mwandb\u001b[0m: \n",
      "\u001b[34m\u001b[1mwandb\u001b[0m: Run history:\n",
      "\u001b[34m\u001b[1mwandb\u001b[0m:                      eval/loss █▂▁\n",
      "\u001b[34m\u001b[1mwandb\u001b[0m:                   eval/runtime █▁▂\n",
      "\u001b[34m\u001b[1mwandb\u001b[0m:        eval/samples_per_second ▁█▇\n",
      "\u001b[34m\u001b[1mwandb\u001b[0m:          eval/steps_per_second ▁█▇\n",
      "\u001b[34m\u001b[1mwandb\u001b[0m:                    train/epoch ▁▁▁▁▂▂▂▂▂▃▃▃▃▃▃▄▄▄▄▄▄▅▅▅▅▅▆▆▆▆▆▆▇▇▇▇▇███\n",
      "\u001b[34m\u001b[1mwandb\u001b[0m:              train/global_step ▁▁▁▁▂▂▂▂▂▃▃▃▃▃▃▄▄▄▄▄▅▅▅▅▅▅▆▆▆▆▆▆▇▇▇▇▇███\n",
      "\u001b[34m\u001b[1mwandb\u001b[0m:            train/learning_rate ▂▃▅▆██████▇▇▇▇▇▆▆▆▆▅▅▅▄▄▄▃▃▃▃▂▂▂▂▂▁▁▁▁▁▁\n",
      "\u001b[34m\u001b[1mwandb\u001b[0m:                     train/loss █▆▅▄▄▄▄▃▃▃▃▃▃▂▂▂▂▂▂▂▂▂▁▂▂▁▂▁▂▂▁▁▁▁▂▁▁▁▁▁\n",
      "\u001b[34m\u001b[1mwandb\u001b[0m:               train/total_flos ▁\n",
      "\u001b[34m\u001b[1mwandb\u001b[0m:               train/train_loss ▁\n",
      "\u001b[34m\u001b[1mwandb\u001b[0m:            train/train_runtime ▁\n",
      "\u001b[34m\u001b[1mwandb\u001b[0m: train/train_samples_per_second ▁\n",
      "\u001b[34m\u001b[1mwandb\u001b[0m:   train/train_steps_per_second ▁\n",
      "\u001b[34m\u001b[1mwandb\u001b[0m: \n",
      "\u001b[34m\u001b[1mwandb\u001b[0m: Run summary:\n",
      "\u001b[34m\u001b[1mwandb\u001b[0m:                      eval/loss 0.97981\n",
      "\u001b[34m\u001b[1mwandb\u001b[0m:                   eval/runtime 46.2688\n",
      "\u001b[34m\u001b[1mwandb\u001b[0m:        eval/samples_per_second 27.513\n",
      "\u001b[34m\u001b[1mwandb\u001b[0m:          eval/steps_per_second 3.458\n",
      "\u001b[34m\u001b[1mwandb\u001b[0m:                    train/epoch 3.29\n",
      "\u001b[34m\u001b[1mwandb\u001b[0m:              train/global_step 1050\n",
      "\u001b[34m\u001b[1mwandb\u001b[0m:            train/learning_rate 0.0\n",
      "\u001b[34m\u001b[1mwandb\u001b[0m:                     train/loss 0.8062\n",
      "\u001b[34m\u001b[1mwandb\u001b[0m:               train/total_flos 1.3640094443372544e+18\n",
      "\u001b[34m\u001b[1mwandb\u001b[0m:               train/train_loss 0.87664\n",
      "\u001b[34m\u001b[1mwandb\u001b[0m:            train/train_runtime 4032.3899\n",
      "\u001b[34m\u001b[1mwandb\u001b[0m: train/train_samples_per_second 8.333\n",
      "\u001b[34m\u001b[1mwandb\u001b[0m:   train/train_steps_per_second 0.26\n",
      "\u001b[34m\u001b[1mwandb\u001b[0m: \n"
     ]
    },
    {
     "name": "stderr",
     "output_type": "stream",
     "text": [
      "\u001b[34m\u001b[1mwandb\u001b[0m: 🚀 View run \u001b[33msolar-waterfall-16\u001b[0m at: \u001b[34m\u001b[4mhttps://wandb.ai/neelectric/biollama_ft/runs/lwhpsmj1\u001b[0m\n",
      "\u001b[34m\u001b[1mwandb\u001b[0m: Synced 6 W&B file(s), 0 media file(s), 0 artifact file(s) and 0 other file(s)\n"
     ]
    },
    {
     "name": "stderr",
     "output_type": "stream",
     "text": [
      "\u001b[34m\u001b[1mwandb\u001b[0m: Find logs at: \u001b[35m\u001b[1m./wandb/run-20240123_110031-lwhpsmj1/logs\u001b[0m\n"
     ]
    }
   ],
   "source": [
    "trainer.train()\n",
    "wandb.finish()"
   ]
  },
  {
   "cell_type": "code",
   "execution_count": 24,
   "id": "a81beabc",
   "metadata": {
    "execution": {
     "iopub.execute_input": "2024-01-23T12:07:57.860019Z",
     "iopub.status.busy": "2024-01-23T12:07:57.859858Z",
     "iopub.status.idle": "2024-01-23T12:07:57.862148Z",
     "shell.execute_reply": "2024-01-23T12:07:57.861853Z"
    },
    "papermill": {
     "duration": 0.01261,
     "end_time": "2024-01-23T12:07:57.862968",
     "exception": false,
     "start_time": "2024-01-23T12:07:57.850358",
     "status": "completed"
    },
    "tags": []
   },
   "outputs": [
    {
     "name": "stdout",
     "output_type": "stream",
     "text": [
      "/home/service/BioLlama/utilities/finetuning/finetuned_models\n"
     ]
    }
   ],
   "source": [
    "import os\n",
    "print(os.path.abspath(output_dir))"
   ]
  },
  {
   "cell_type": "code",
   "execution_count": 25,
   "id": "684ca6fe",
   "metadata": {
    "execution": {
     "iopub.execute_input": "2024-01-23T12:07:57.873761Z",
     "iopub.status.busy": "2024-01-23T12:07:57.873681Z",
     "iopub.status.idle": "2024-01-23T12:08:15.323534Z",
     "shell.execute_reply": "2024-01-23T12:08:15.323110Z"
    },
    "papermill": {
     "duration": 17.455905,
     "end_time": "2024-01-23T12:08:15.324169",
     "exception": false,
     "start_time": "2024-01-23T12:07:57.868264",
     "status": "completed"
    },
    "tags": []
   },
   "outputs": [
    {
     "name": "stdout",
     "output_type": "stream",
     "text": [
      "total 13163376\r\n",
      "drwxrwxr-x 2 service service       4096 Jan 23 12:07 checkpoint-1050\r\n",
      "drwxrwxr-x 2 service service       4096 Jan 17 00:52 checkpoint-350\r\n",
      "drwxrwxr-x 2 service service       4096 Jan 22 11:09 checkpoint-50\r\n",
      "-rw-rw-r-- 1 service service        685 Jan 23 12:07 config.json\r\n",
      "-rw-rw-r-- 1 service service        183 Jan 23 12:07 generation_config.json\r\n",
      "drwxrwxr-x 2 service service       4096 Jan 23 11:00 logs\r\n",
      "-rw-rw-r-- 1 service service 4938985352 Jan 23 12:08 model-00001-of-00003.safetensors\r\n",
      "-rw-rw-r-- 1 service service 4947390880 Jan 23 12:08 model-00002-of-00003.safetensors\r\n",
      "-rw-rw-r-- 1 service service 3590488816 Jan 23 12:08 model-00003-of-00003.safetensors\r\n",
      "-rw-rw-r-- 1 service service      23950 Jan 23 12:08 model.safetensors.index.json\r\n",
      "-rw-rw-r-- 1 service service        437 Jan 23 12:08 special_tokens_map.json\r\n",
      "-rw-rw-r-- 1 service service        920 Jan 23 12:08 tokenizer_config.json\r\n",
      "-rw-rw-r-- 1 service service    1842767 Jan 23 12:08 tokenizer.json\r\n",
      "-rw-rw-r-- 1 service service     499723 Jan 23 12:08 tokenizer.model\r\n",
      "-rw-rw-r-- 1 service service       4792 Jan 23 12:08 training_args.bin\r\n"
     ]
    },
    {
     "name": "stderr",
     "output_type": "stream",
     "text": [
      "huggingface/tokenizers: The current process just got forked, after parallelism has already been used. Disabling parallelism to avoid deadlocks...\n",
      "To disable this warning, you can either:\n",
      "\t- Avoid using `tokenizers` before the fork if possible\n",
      "\t- Explicitly set the environment variable TOKENIZERS_PARALLELISM=(true | false)\n"
     ]
    }
   ],
   "source": [
    "trainer.save_model(output_dir)\n",
    "#print contents of output_dir\n",
    "!ls -l $output_dir\n",
    "#print full path of output_dir\n",
    "# !pwd $output_dir"
   ]
  },
  {
   "cell_type": "code",
   "execution_count": 26,
   "id": "16ff2529",
   "metadata": {
    "execution": {
     "iopub.execute_input": "2024-01-23T12:08:15.333187Z",
     "iopub.status.busy": "2024-01-23T12:08:15.333094Z",
     "iopub.status.idle": "2024-01-23T12:08:42.948674Z",
     "shell.execute_reply": "2024-01-23T12:08:42.948336Z"
    },
    "papermill": {
     "duration": 27.621481,
     "end_time": "2024-01-23T12:08:42.949222",
     "exception": false,
     "start_time": "2024-01-23T12:08:15.327741",
     "status": "completed"
    },
    "tags": []
   },
   "outputs": [
    {
     "name": "stdout",
     "output_type": "stream",
     "text": [
      "/home/service/BioLlama/utilities/finetuning/finetuned_models/\n"
     ]
    },
    {
     "name": "stderr",
     "output_type": "stream",
     "text": [
      "\r",
      "Loading checkpoint shards:   0%|                                                                                                                                                                                       | 0/3 [00:00<?, ?it/s]"
     ]
    },
    {
     "name": "stderr",
     "output_type": "stream",
     "text": [
      "\r",
      "Loading checkpoint shards:  33%|██████████████████████████████████████████████████████████▎                                                                                                                    | 1/3 [00:01<00:02,  1.40s/it]"
     ]
    },
    {
     "name": "stderr",
     "output_type": "stream",
     "text": [
      "\r",
      "Loading checkpoint shards:  67%|████████████████████████████████████████████████████████████████████████████████████████████████████████████████████▋                                                          | 2/3 [00:02<00:00,  1.07it/s]"
     ]
    },
    {
     "name": "stderr",
     "output_type": "stream",
     "text": [
      "\r",
      "Loading checkpoint shards: 100%|███████████████████████████████████████████████████████████████████████████████████████████████████████████████████████████████████████████████████████████████████████████████| 3/3 [00:02<00:00,  1.39it/s]"
     ]
    },
    {
     "name": "stderr",
     "output_type": "stream",
     "text": [
      "\r",
      "Loading checkpoint shards: 100%|███████████████████████████████████████████████████████████████████████████████████████████████████████████████████████████████████████████████████████████████████████████████| 3/3 [00:02<00:00,  1.21it/s]"
     ]
    },
    {
     "name": "stderr",
     "output_type": "stream",
     "text": [
      "\n",
      "WARNING:root:Some parameters are on the meta device device because they were offloaded to the cpu.\n"
     ]
    },
    {
     "name": "stderr",
     "output_type": "stream",
     "text": [
      "/home/service/miniconda3/envs/llm_research/lib/python3.11/site-packages/transformers/generation/utils.py:1636: UserWarning: You are calling .generate() with the `input_ids` being on a device type different than your model's device. `input_ids` is on cpu, whereas the model is on cuda. You may experience unexpected behaviors or slower generation. Please make sure that you have put `input_ids` to the correct device by calling for example input_ids = input_ids.to('cuda') before running `.generate()`.\n",
      "  warnings.warn(\n"
     ]
    },
    {
     "name": "stdout",
     "output_type": "stream",
     "text": [
      "You are an excellently helpful AI assistant that answers biomedical questions. <QUESTION>A 23-year-old pregnant woman at 22 weeks gestation presents with burning upon urination. She states it started 1 day ago and has been worsening despite drinking more water and taking cranberry extract. She otherwise feels well and is followed by a doctor for her pregnancy. Her temperature is 97.7°F (36.5°C), blood pressure is 122/77 mmHg, pulse is 80/min, respirations are 19/min, and oxygen saturation is 98% on room air. Physical exam is notable for an absence of costovertebral angle tenderness and a gravid uterus. Which of the following is the best treatment for this patient? \n",
      " (A) Ampicillin\n",
      " (B) Ceftriaxone\n",
      " (C) Ciprofloxacin\n",
      " (D) Doxycycline\n",
      " (E) Nitrofurantoin</QUESTION>\n",
      "<ANSWER> \n",
      " (B) Ceftriaxone</ANSWER>\n"
     ]
    }
   ],
   "source": [
    "#there is a finetune of llama 2 7b hf in the foler finetuned_models\n",
    "#load this local model here and use it to generate some text\n",
    "\n",
    "print(output_dir)\n",
    "\n",
    "from transformers import AutoModelForCausalLM, AutoTokenizer\n",
    "new_tokenizer = AutoTokenizer.from_pretrained(output_dir)\n",
    "new_model = AutoModelForCausalLM.from_pretrained(output_dir, device_map=\"auto\")\n",
    "prompt = 'You are an excellently helpful AI assistant that answers biomedical questions. <QUESTION>A 23-year-old pregnant woman at 22 weeks gestation presents with burning upon urination. She states it started 1 day ago and has been worsening despite drinking more water and taking cranberry extract. She otherwise feels well and is followed by a doctor for her pregnancy. Her temperature is 97.7°F (36.5°C), blood pressure is 122/77 mmHg, pulse is 80/min, respirations are 19/min, and oxygen saturation is 98% on room air. Physical exam is notable for an absence of costovertebral angle tenderness and a gravid uterus. Which of the following is the best treatment for this patient? \\n (A) Ampicillin\\n (B) Ceftriaxone\\n (C) Ciprofloxacin\\n (D) Doxycycline\\n (E) Nitrofurantoin</QUESTION>\\n<ANSWER> '\n",
    "\n",
    "input_ids = new_tokenizer.encode(prompt, return_tensors=\"pt\")\n",
    "# input_ids = new_tokenizer.encode(prompt, return_tensors=\"pt\")\n",
    "\n",
    "# print(input_ids)\n",
    "# print(input_ids.shape)\n",
    "\n",
    "output = new_model.generate(input_ids, max_new_tokens=35, do_sample=True, top_p=0.95, top_k=60)\n",
    "print(new_tokenizer.decode(output[0], skip_special_tokens=True))"
   ]
  }
 ],
 "metadata": {
  "kernelspec": {
   "display_name": "Python 3",
   "language": "python",
   "name": "python3"
  },
  "language_info": {
   "codemirror_mode": {
    "name": "ipython",
    "version": 3
   },
   "file_extension": ".py",
   "mimetype": "text/x-python",
   "name": "python",
   "nbconvert_exporter": "python",
   "pygments_lexer": "ipython3",
   "version": "3.11.4"
  },
  "papermill": {
   "default_parameters": {},
   "duration": 4094.975886,
   "end_time": "2024-01-23T12:08:44.874818",
   "environment_variables": {},
   "exception": null,
   "input_path": "BioLlama_finetuning_WandB_HF.ipynb",
   "output_path": "output.ipynb",
   "parameters": {},
   "start_time": "2024-01-23T11:00:29.898932",
   "version": "2.5.0"
  }
 },
 "nbformat": 4,
 "nbformat_minor": 5
}