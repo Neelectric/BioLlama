{
 "cells": [
  {
   "cell_type": "markdown",
   "id": "fb384650",
   "metadata": {
    "papermill": {
     "duration": 0.002541,
     "end_time": "2024-01-17T00:20:59.083690",
     "exception": false,
     "start_time": "2024-01-17T00:20:59.081149",
     "status": "completed"
    },
    "tags": []
   },
   "source": [
    "This notebook is taken directly from https://github.com/tcapelle/llm_recipes/tree/main"
   ]
  },
  {
   "cell_type": "markdown",
   "id": "3c7c21b5-4457-481f-b2cc-fb20cdcbfbe3",
   "metadata": {
    "papermill": {
     "duration": 0.002618,
     "end_time": "2024-01-17T00:20:59.094857",
     "exception": false,
     "start_time": "2024-01-17T00:20:59.092239",
     "status": "completed"
    },
    "tags": []
   },
   "source": [
    "# From Llama to Alpaca: Finetunning and LLM with Weights & Biases\n",
    "In this notebooks you will learn how to finetune a pretrained LLama model on an Instruction dataset. We will use an updated version of the Alpaca dataset that, instead of davinci-003 (GPT3) generations uses GPT4 to get an even better instruction dataset! More details on the [official repo page](https://github.com/Instruction-Tuning-with-GPT-4/GPT-4-LLM#how-good-is-the-data)\n",
    "\n",
    "> This notebook requires a A100/A10 GPU with at least 24GB of memory. You could tweak the params down and run on a T4 but it would take very long time\n",
    "\n",
    "This notebooks has a companion project and [report](wandb.me/alpaca)"
   ]
  },
  {
   "cell_type": "code",
   "execution_count": 1,
   "id": "7744abe6",
   "metadata": {
    "execution": {
     "iopub.execute_input": "2024-01-17T00:20:59.099735Z",
     "iopub.status.busy": "2024-01-17T00:20:59.099584Z",
     "iopub.status.idle": "2024-01-17T00:21:00.872449Z",
     "shell.execute_reply": "2024-01-17T00:21:00.871963Z"
    },
    "papermill": {
     "duration": 1.776896,
     "end_time": "2024-01-17T00:21:00.873674",
     "exception": false,
     "start_time": "2024-01-17T00:20:59.096778",
     "status": "completed"
    },
    "tags": []
   },
   "outputs": [
    {
     "name": "stdout",
     "output_type": "stream",
     "text": [
      "Requirement already satisfied: wandb in /home/service/miniconda3/envs/llm_research/lib/python3.11/site-packages (0.16.1)\r\n",
      "Requirement already satisfied: transformers in /home/service/miniconda3/envs/llm_research/lib/python3.11/site-packages (4.36.2)\r\n",
      "Requirement already satisfied: trl in /home/service/miniconda3/envs/llm_research/lib/python3.11/site-packages (0.4.7)\r\n",
      "Requirement already satisfied: datasets in /home/service/miniconda3/envs/llm_research/lib/python3.11/site-packages (2.14.4)\r\n",
      "Requirement already satisfied: protobuf==3.20.3 in /home/service/miniconda3/envs/llm_research/lib/python3.11/site-packages (3.20.3)\r\n",
      "Requirement already satisfied: evaluate in /home/service/miniconda3/envs/llm_research/lib/python3.11/site-packages (0.4.1)\r\n"
     ]
    },
    {
     "name": "stdout",
     "output_type": "stream",
     "text": [
      "Requirement already satisfied: Click!=8.0.0,>=7.1 in /home/service/miniconda3/envs/llm_research/lib/python3.11/site-packages (from wandb) (8.1.6)\r\n",
      "Requirement already satisfied: GitPython!=3.1.29,>=1.0.0 in /home/service/miniconda3/envs/llm_research/lib/python3.11/site-packages (from wandb) (3.1.40)\r\n",
      "Requirement already satisfied: requests<3,>=2.0.0 in /home/service/miniconda3/envs/llm_research/lib/python3.11/site-packages (from wandb) (2.31.0)\r\n",
      "Requirement already satisfied: psutil>=5.0.0 in /home/service/miniconda3/envs/llm_research/lib/python3.11/site-packages (from wandb) (5.9.0)\r\n",
      "Requirement already satisfied: sentry-sdk>=1.0.0 in /home/service/miniconda3/envs/llm_research/lib/python3.11/site-packages (from wandb) (1.39.1)\r\n",
      "Requirement already satisfied: docker-pycreds>=0.4.0 in /home/service/miniconda3/envs/llm_research/lib/python3.11/site-packages (from wandb) (0.4.0)\r\n",
      "Requirement already satisfied: PyYAML in /home/service/miniconda3/envs/llm_research/lib/python3.11/site-packages (from wandb) (6.0.1)\r\n",
      "Requirement already satisfied: setproctitle in /home/service/miniconda3/envs/llm_research/lib/python3.11/site-packages (from wandb) (1.3.3)\r\n",
      "Requirement already satisfied: setuptools in /home/service/miniconda3/envs/llm_research/lib/python3.11/site-packages (from wandb) (68.0.0)\r\n",
      "Requirement already satisfied: appdirs>=1.4.3 in /home/service/miniconda3/envs/llm_research/lib/python3.11/site-packages (from wandb) (1.4.4)\r\n"
     ]
    },
    {
     "name": "stdout",
     "output_type": "stream",
     "text": [
      "Requirement already satisfied: filelock in /home/service/miniconda3/envs/llm_research/lib/python3.11/site-packages (from transformers) (3.9.0)\r\n",
      "Requirement already satisfied: huggingface-hub<1.0,>=0.19.3 in /home/service/miniconda3/envs/llm_research/lib/python3.11/site-packages (from transformers) (0.20.1)\r\n",
      "Requirement already satisfied: numpy>=1.17 in /home/service/miniconda3/envs/llm_research/lib/python3.11/site-packages (from transformers) (1.25.2)\r\n",
      "Requirement already satisfied: packaging>=20.0 in /home/service/miniconda3/envs/llm_research/lib/python3.11/site-packages (from transformers) (23.1)\r\n",
      "Requirement already satisfied: regex!=2019.12.17 in /home/service/miniconda3/envs/llm_research/lib/python3.11/site-packages (from transformers) (2023.8.8)\r\n",
      "Requirement already satisfied: tokenizers<0.19,>=0.14 in /home/service/miniconda3/envs/llm_research/lib/python3.11/site-packages (from transformers) (0.15.0)\r\n",
      "Requirement already satisfied: safetensors>=0.3.1 in /home/service/miniconda3/envs/llm_research/lib/python3.11/site-packages (from transformers) (0.3.1)\r\n",
      "Requirement already satisfied: tqdm>=4.27 in /home/service/miniconda3/envs/llm_research/lib/python3.11/site-packages (from transformers) (4.66.1)\r\n",
      "Requirement already satisfied: torch>=1.4.0 in /home/service/miniconda3/envs/llm_research/lib/python3.11/site-packages (from trl) (1.13.1)\r\n",
      "Requirement already satisfied: accelerate in /home/service/miniconda3/envs/llm_research/lib/python3.11/site-packages (from trl) (0.26.1)\r\n"
     ]
    },
    {
     "name": "stdout",
     "output_type": "stream",
     "text": [
      "Requirement already satisfied: pyarrow>=8.0.0 in /home/service/miniconda3/envs/llm_research/lib/python3.11/site-packages (from datasets) (12.0.1)\r\n",
      "Requirement already satisfied: dill<0.3.8,>=0.3.0 in /home/service/miniconda3/envs/llm_research/lib/python3.11/site-packages (from datasets) (0.3.7)\r\n",
      "Requirement already satisfied: pandas in /home/service/miniconda3/envs/llm_research/lib/python3.11/site-packages (from datasets) (1.5.3)\r\n",
      "Requirement already satisfied: xxhash in /home/service/miniconda3/envs/llm_research/lib/python3.11/site-packages (from datasets) (3.3.0)\r\n",
      "Requirement already satisfied: multiprocess in /home/service/miniconda3/envs/llm_research/lib/python3.11/site-packages (from datasets) (0.70.15)\r\n",
      "Requirement already satisfied: fsspec[http]>=2021.11.1 in /home/service/miniconda3/envs/llm_research/lib/python3.11/site-packages (from datasets) (2023.6.0)\r\n",
      "Requirement already satisfied: aiohttp in /home/service/miniconda3/envs/llm_research/lib/python3.11/site-packages (from datasets) (3.8.5)\r\n"
     ]
    },
    {
     "name": "stdout",
     "output_type": "stream",
     "text": [
      "Requirement already satisfied: responses<0.19 in /home/service/miniconda3/envs/llm_research/lib/python3.11/site-packages (from evaluate) (0.18.0)\r\n",
      "Requirement already satisfied: six>=1.4.0 in /home/service/miniconda3/envs/llm_research/lib/python3.11/site-packages (from docker-pycreds>=0.4.0->wandb) (1.16.0)\r\n",
      "Requirement already satisfied: attrs>=17.3.0 in /home/service/miniconda3/envs/llm_research/lib/python3.11/site-packages (from aiohttp->datasets) (23.1.0)\r\n",
      "Requirement already satisfied: charset-normalizer<4.0,>=2.0 in /home/service/miniconda3/envs/llm_research/lib/python3.11/site-packages (from aiohttp->datasets) (2.0.4)\r\n",
      "Requirement already satisfied: multidict<7.0,>=4.5 in /home/service/miniconda3/envs/llm_research/lib/python3.11/site-packages (from aiohttp->datasets) (6.0.4)\r\n",
      "Requirement already satisfied: async-timeout<5.0,>=4.0.0a3 in /home/service/miniconda3/envs/llm_research/lib/python3.11/site-packages (from aiohttp->datasets) (4.0.3)\r\n",
      "Requirement already satisfied: yarl<2.0,>=1.0 in /home/service/miniconda3/envs/llm_research/lib/python3.11/site-packages (from aiohttp->datasets) (1.9.2)\r\n",
      "Requirement already satisfied: frozenlist>=1.1.1 in /home/service/miniconda3/envs/llm_research/lib/python3.11/site-packages (from aiohttp->datasets) (1.4.0)\r\n",
      "Requirement already satisfied: aiosignal>=1.1.2 in /home/service/miniconda3/envs/llm_research/lib/python3.11/site-packages (from aiohttp->datasets) (1.3.1)\r\n",
      "Requirement already satisfied: gitdb<5,>=4.0.1 in /home/service/miniconda3/envs/llm_research/lib/python3.11/site-packages (from GitPython!=3.1.29,>=1.0.0->wandb) (4.0.11)\r\n"
     ]
    },
    {
     "name": "stdout",
     "output_type": "stream",
     "text": [
      "Requirement already satisfied: typing-extensions>=3.7.4.3 in /home/service/miniconda3/envs/llm_research/lib/python3.11/site-packages (from huggingface-hub<1.0,>=0.19.3->transformers) (4.7.1)\r\n",
      "Requirement already satisfied: idna<4,>=2.5 in /home/service/miniconda3/envs/llm_research/lib/python3.11/site-packages (from requests<3,>=2.0.0->wandb) (3.4)\r\n",
      "Requirement already satisfied: urllib3<3,>=1.21.1 in /home/service/miniconda3/envs/llm_research/lib/python3.11/site-packages (from requests<3,>=2.0.0->wandb) (1.26.16)\r\n",
      "Requirement already satisfied: certifi>=2017.4.17 in /home/service/miniconda3/envs/llm_research/lib/python3.11/site-packages (from requests<3,>=2.0.0->wandb) (2023.7.22)\r\n"
     ]
    },
    {
     "name": "stdout",
     "output_type": "stream",
     "text": [
      "Requirement already satisfied: nvidia-cuda-runtime-cu11==11.7.99 in /home/service/miniconda3/envs/llm_research/lib/python3.11/site-packages (from torch>=1.4.0->trl) (11.7.99)\r\n",
      "Requirement already satisfied: nvidia-cudnn-cu11==8.5.0.96 in /home/service/miniconda3/envs/llm_research/lib/python3.11/site-packages (from torch>=1.4.0->trl) (8.5.0.96)\r\n",
      "Requirement already satisfied: nvidia-cublas-cu11==11.10.3.66 in /home/service/miniconda3/envs/llm_research/lib/python3.11/site-packages (from torch>=1.4.0->trl) (11.10.3.66)\r\n",
      "Requirement already satisfied: nvidia-cuda-nvrtc-cu11==11.7.99 in /home/service/miniconda3/envs/llm_research/lib/python3.11/site-packages (from torch>=1.4.0->trl) (11.7.99)\r\n",
      "Requirement already satisfied: wheel in /home/service/miniconda3/envs/llm_research/lib/python3.11/site-packages (from nvidia-cublas-cu11==11.10.3.66->torch>=1.4.0->trl) (0.38.4)\r\n"
     ]
    },
    {
     "name": "stdout",
     "output_type": "stream",
     "text": [
      "Requirement already satisfied: python-dateutil>=2.8.1 in /home/service/miniconda3/envs/llm_research/lib/python3.11/site-packages (from pandas->datasets) (2.8.2)\r\n",
      "Requirement already satisfied: pytz>=2020.1 in /home/service/miniconda3/envs/llm_research/lib/python3.11/site-packages (from pandas->datasets) (2023.3)\r\n"
     ]
    },
    {
     "name": "stdout",
     "output_type": "stream",
     "text": [
      "Requirement already satisfied: smmap<6,>=3.0.1 in /home/service/miniconda3/envs/llm_research/lib/python3.11/site-packages (from gitdb<5,>=4.0.1->GitPython!=3.1.29,>=1.0.0->wandb) (5.0.1)\r\n"
     ]
    }
   ],
   "source": [
    "!pip install wandb transformers trl datasets \"protobuf==3.20.3\" evaluate"
   ]
  },
  {
   "cell_type": "markdown",
   "id": "7693a36b-5cdc-4582-844b-8dd52fa522c5",
   "metadata": {
    "papermill": {
     "duration": 0.008392,
     "end_time": "2024-01-17T00:21:00.884644",
     "exception": false,
     "start_time": "2024-01-17T00:21:00.876252",
     "status": "completed"
    },
    "tags": []
   },
   "source": [
    "## With Huggingface TRL"
   ]
  },
  {
   "cell_type": "markdown",
   "id": "da04c0a5-f481-4364-880d-10c254388987",
   "metadata": {
    "papermill": {
     "duration": 0.002148,
     "end_time": "2024-01-17T00:21:00.889189",
     "exception": false,
     "start_time": "2024-01-17T00:21:00.887041",
     "status": "completed"
    },
    "tags": []
   },
   "source": [
    "Let's grab the Alpaca (GPT-4 curated instructions and outputs) dataset:"
   ]
  },
  {
   "cell_type": "code",
   "execution_count": 2,
   "id": "52ff363e-8a24-4085-9b7e-6564d106d2e9",
   "metadata": {
    "execution": {
     "iopub.execute_input": "2024-01-17T00:21:00.894314Z",
     "iopub.status.busy": "2024-01-17T00:21:00.894173Z",
     "iopub.status.idle": "2024-01-17T00:21:00.896381Z",
     "shell.execute_reply": "2024-01-17T00:21:00.896113Z"
    },
    "papermill": {
     "duration": 0.005637,
     "end_time": "2024-01-17T00:21:00.896990",
     "exception": false,
     "start_time": "2024-01-17T00:21:00.891353",
     "status": "completed"
    },
    "tags": []
   },
   "outputs": [],
   "source": [
    "# !wget https://raw.githubusercontent.com/Instruction-Tuning-with-GPT-4/GPT-4-LLM/main/data/alpaca_gpt4_data.json"
   ]
  },
  {
   "cell_type": "code",
   "execution_count": 3,
   "id": "0fce67d2-3703-4042-816c-7a13ba9eab3e",
   "metadata": {
    "execution": {
     "iopub.execute_input": "2024-01-17T00:21:00.902043Z",
     "iopub.status.busy": "2024-01-17T00:21:00.901810Z",
     "iopub.status.idle": "2024-01-17T00:21:01.011451Z",
     "shell.execute_reply": "2024-01-17T00:21:01.011108Z"
    },
    "papermill": {
     "duration": 0.113121,
     "end_time": "2024-01-17T00:21:01.012298",
     "exception": false,
     "start_time": "2024-01-17T00:21:00.899177",
     "status": "completed"
    },
    "tags": []
   },
   "outputs": [],
   "source": [
    "import json\n",
    "\n",
    "dataset_file = \"alpaca_gpt4_data.json\"\n",
    "\n",
    "with open(dataset_file, \"r\") as f:\n",
    "    alpaca = json.load(f)"
   ]
  },
  {
   "cell_type": "code",
   "execution_count": 4,
   "id": "a154f968-da0f-4bdc-bf45-e499d95f0606",
   "metadata": {
    "execution": {
     "iopub.execute_input": "2024-01-17T00:21:01.024789Z",
     "iopub.status.busy": "2024-01-17T00:21:01.024684Z",
     "iopub.status.idle": "2024-01-17T00:21:07.425408Z",
     "shell.execute_reply": "2024-01-17T00:21:07.425094Z"
    },
    "papermill": {
     "duration": 6.410539,
     "end_time": "2024-01-17T00:21:07.426311",
     "exception": false,
     "start_time": "2024-01-17T00:21:01.015772",
     "status": "completed"
    },
    "tags": []
   },
   "outputs": [
    {
     "name": "stderr",
     "output_type": "stream",
     "text": [
      "\u001b[34m\u001b[1mwandb\u001b[0m: Currently logged in as: \u001b[33mnelectric\u001b[0m (\u001b[33mneelectric\u001b[0m). Use \u001b[1m`wandb login --relogin`\u001b[0m to force relogin\n"
     ]
    },
    {
     "name": "stderr",
     "output_type": "stream",
     "text": [
      "\u001b[34m\u001b[1mwandb\u001b[0m: wandb version 0.16.2 is available!  To upgrade, please run:\n",
      "\u001b[34m\u001b[1mwandb\u001b[0m:  $ pip install wandb --upgrade\n"
     ]
    },
    {
     "name": "stderr",
     "output_type": "stream",
     "text": [
      "\u001b[34m\u001b[1mwandb\u001b[0m: Tracking run with wandb version 0.16.1\n"
     ]
    },
    {
     "name": "stderr",
     "output_type": "stream",
     "text": [
      "\u001b[34m\u001b[1mwandb\u001b[0m: Run data is saved locally in \u001b[35m\u001b[1m/home/service/BioLlama/utilities/finetuning/wandb/run-20240117_002102-30bl1xzs\u001b[0m\n",
      "\u001b[34m\u001b[1mwandb\u001b[0m: Run \u001b[1m`wandb offline`\u001b[0m to turn off syncing.\n"
     ]
    },
    {
     "name": "stderr",
     "output_type": "stream",
     "text": [
      "\u001b[34m\u001b[1mwandb\u001b[0m: Syncing run \u001b[33mfrosty-waterfall-40\u001b[0m\n"
     ]
    },
    {
     "name": "stderr",
     "output_type": "stream",
     "text": [
      "\u001b[34m\u001b[1mwandb\u001b[0m: ⭐️ View project at \u001b[34m\u001b[4mhttps://wandb.ai/neelectric/alpaca_ft\u001b[0m\n"
     ]
    },
    {
     "name": "stderr",
     "output_type": "stream",
     "text": [
      "\u001b[34m\u001b[1mwandb\u001b[0m: 🚀 View run at \u001b[34m\u001b[4mhttps://wandb.ai/neelectric/alpaca_ft/runs/30bl1xzs\u001b[0m\n"
     ]
    },
    {
     "name": "stderr",
     "output_type": "stream",
     "text": [
      "\u001b[34m\u001b[1mwandb\u001b[0m: \\ 1 of 2 files downloaded...\r"
     ]
    },
    {
     "name": "stderr",
     "output_type": "stream",
     "text": [
      "\u001b[34m\u001b[1mwandb\u001b[0m:   2 of 2 files downloaded.  \n"
     ]
    }
   ],
   "source": [
    "import wandb\n",
    "wandb.init(project=\"alpaca_ft\", # the project I am working on\n",
    "           tags=[\"hf_sft\"]) # the Hyperparameters I want to keep track of\n",
    "artifact = wandb.use_artifact('capecape/alpaca_ft/alpaca_gpt4_splitted:latest', type='dataset')\n",
    "artifact_dir = artifact.download()"
   ]
  },
  {
   "cell_type": "code",
   "execution_count": 5,
   "id": "811291cc-b7ce-422a-8971-3cbf9fe10a7f",
   "metadata": {
    "execution": {
     "iopub.execute_input": "2024-01-17T00:21:07.440755Z",
     "iopub.status.busy": "2024-01-17T00:21:07.440567Z",
     "iopub.status.idle": "2024-01-17T00:21:08.281875Z",
     "shell.execute_reply": "2024-01-17T00:21:08.281591Z"
    },
    "papermill": {
     "duration": 0.852358,
     "end_time": "2024-01-17T00:21:08.282858",
     "exception": false,
     "start_time": "2024-01-17T00:21:07.430500",
     "status": "completed"
    },
    "tags": []
   },
   "outputs": [
    {
     "name": "stderr",
     "output_type": "stream",
     "text": [
      "/home/service/miniconda3/envs/llm_research/lib/python3.11/site-packages/tqdm/auto.py:21: TqdmWarning: IProgress not found. Please update jupyter and ipywidgets. See https://ipywidgets.readthedocs.io/en/stable/user_install.html\n",
      "  from .autonotebook import tqdm as notebook_tqdm\n"
     ]
    },
    {
     "name": "stdout",
     "output_type": "stream",
     "text": [
      "/home/service/BioLlama/utilities/finetuning/artifacts/alpaca_gpt4_splitted:v8\n"
     ]
    }
   ],
   "source": [
    "print(artifact_dir)\n",
    "from datasets import load_dataset\n",
    "alpaca_ds = load_dataset(\"json\", data_dir=artifact_dir)"
   ]
  },
  {
   "cell_type": "code",
   "execution_count": 6,
   "id": "7a9e0ed7-375f-431a-9420-0022cf5566f8",
   "metadata": {
    "execution": {
     "iopub.execute_input": "2024-01-17T00:21:08.296614Z",
     "iopub.status.busy": "2024-01-17T00:21:08.296077Z",
     "iopub.status.idle": "2024-01-17T00:21:08.300137Z",
     "shell.execute_reply": "2024-01-17T00:21:08.299893Z"
    },
    "papermill": {
     "duration": 0.013535,
     "end_time": "2024-01-17T00:21:08.300800",
     "exception": false,
     "start_time": "2024-01-17T00:21:08.287265",
     "status": "completed"
    },
    "tags": []
   },
   "outputs": [
    {
     "data": {
      "text/plain": [
       "DatasetDict({\n",
       "    train: Dataset({\n",
       "        features: ['instruction', 'input', 'output'],\n",
       "        num_rows: 51002\n",
       "    })\n",
       "    test: Dataset({\n",
       "        features: ['instruction', 'input', 'output'],\n",
       "        num_rows: 1000\n",
       "    })\n",
       "})"
      ]
     },
     "execution_count": 6,
     "metadata": {},
     "output_type": "execute_result"
    }
   ],
   "source": [
    "alpaca_ds"
   ]
  },
  {
   "cell_type": "markdown",
   "id": "26cb96e0-b2f2-4a79-ba65-e1c8d6395d54",
   "metadata": {
    "papermill": {
     "duration": 0.003798,
     "end_time": "2024-01-17T00:21:08.308503",
     "exception": false,
     "start_time": "2024-01-17T00:21:08.304705",
     "status": "completed"
    },
    "tags": []
   },
   "source": [
    "Let's log the dataset also as a table so we can inspect it on the workspace."
   ]
  },
  {
   "cell_type": "code",
   "execution_count": 7,
   "id": "ece48bbf-ddc0-4507-a733-83c5b3c1c20d",
   "metadata": {
    "execution": {
     "iopub.execute_input": "2024-01-17T00:21:08.316855Z",
     "iopub.status.busy": "2024-01-17T00:21:08.316561Z",
     "iopub.status.idle": "2024-01-17T00:21:08.318459Z",
     "shell.execute_reply": "2024-01-17T00:21:08.318218Z"
    },
    "papermill": {
     "duration": 0.006789,
     "end_time": "2024-01-17T00:21:08.319074",
     "exception": false,
     "start_time": "2024-01-17T00:21:08.312285",
     "status": "completed"
    },
    "tags": []
   },
   "outputs": [],
   "source": [
    "def prompt_no_input(row):\n",
    "    return (\"Below is an instruction that describes a task. \"\n",
    "            \"Write a response that appropriately completes the request.\\n\\n\"\n",
    "            \"### Instruction:\\n{instruction}\\n\\n### Response:\\n{output}\").format_map(row)"
   ]
  },
  {
   "cell_type": "code",
   "execution_count": 8,
   "id": "b795343f-0356-4689-8bc6-9ac650716c8b",
   "metadata": {
    "execution": {
     "iopub.execute_input": "2024-01-17T00:21:08.324567Z",
     "iopub.status.busy": "2024-01-17T00:21:08.324478Z",
     "iopub.status.idle": "2024-01-17T00:21:08.326084Z",
     "shell.execute_reply": "2024-01-17T00:21:08.325900Z"
    },
    "papermill": {
     "duration": 0.004997,
     "end_time": "2024-01-17T00:21:08.326599",
     "exception": false,
     "start_time": "2024-01-17T00:21:08.321602",
     "status": "completed"
    },
    "tags": []
   },
   "outputs": [],
   "source": [
    "def prompt_input(row):\n",
    "    return (\"Below is an instruction that describes a task, paired with an input that provides further context. \"\n",
    "            \"Write a response that appropriately completes the request.\\n\\n\"\n",
    "            \"### Instruction:\\n{instruction}\\n\\n### Input:\\n{input}\\n\\n### Response:\\n{output}\").format_map(row)"
   ]
  },
  {
   "cell_type": "code",
   "execution_count": 9,
   "id": "c4038166-085c-4b10-a56a-2bee0bd62436",
   "metadata": {
    "execution": {
     "iopub.execute_input": "2024-01-17T00:21:08.332360Z",
     "iopub.status.busy": "2024-01-17T00:21:08.332242Z",
     "iopub.status.idle": "2024-01-17T00:21:08.334035Z",
     "shell.execute_reply": "2024-01-17T00:21:08.333826Z"
    },
    "papermill": {
     "duration": 0.005298,
     "end_time": "2024-01-17T00:21:08.334505",
     "exception": false,
     "start_time": "2024-01-17T00:21:08.329207",
     "status": "completed"
    },
    "tags": []
   },
   "outputs": [],
   "source": [
    "def create_prompt(row):\n",
    "    return prompt_no_input(row) if row[\"input\"] == \"\" else prompt_input(row)"
   ]
  },
  {
   "cell_type": "code",
   "execution_count": 10,
   "id": "4c7dda87-d70a-470b-a0f9-040af434dc42",
   "metadata": {
    "execution": {
     "iopub.execute_input": "2024-01-17T00:21:08.340344Z",
     "iopub.status.busy": "2024-01-17T00:21:08.340115Z",
     "iopub.status.idle": "2024-01-17T00:21:08.341747Z",
     "shell.execute_reply": "2024-01-17T00:21:08.341575Z"
    },
    "papermill": {
     "duration": 0.005068,
     "end_time": "2024-01-17T00:21:08.342162",
     "exception": false,
     "start_time": "2024-01-17T00:21:08.337094",
     "status": "completed"
    },
    "tags": []
   },
   "outputs": [],
   "source": [
    "train_dataset = alpaca_ds[\"train\"]\n",
    "eval_dataset = alpaca_ds[\"test\"]"
   ]
  },
  {
   "cell_type": "code",
   "execution_count": 11,
   "id": "720c707b-3bce-4164-b8c1-3c3122200c39",
   "metadata": {
    "execution": {
     "iopub.execute_input": "2024-01-17T00:21:08.347901Z",
     "iopub.status.busy": "2024-01-17T00:21:08.347757Z",
     "iopub.status.idle": "2024-01-17T00:21:08.850534Z",
     "shell.execute_reply": "2024-01-17T00:21:08.850171Z"
    },
    "papermill": {
     "duration": 0.506983,
     "end_time": "2024-01-17T00:21:08.851718",
     "exception": false,
     "start_time": "2024-01-17T00:21:08.344735",
     "status": "completed"
    },
    "tags": []
   },
   "outputs": [],
   "source": [
    "import torch\n",
    "# from cti.transformers.transformers.src.transformers.models.auto import AutoModelForCausalLM, AutoTokenizer\n",
    "from transformers import AutoModelForCausalLM, AutoTokenizer"
   ]
  },
  {
   "cell_type": "code",
   "execution_count": 12,
   "id": "4162aec8-f2ba-45db-9633-817b416d4e57",
   "metadata": {
    "execution": {
     "iopub.execute_input": "2024-01-17T00:21:08.863746Z",
     "iopub.status.busy": "2024-01-17T00:21:08.863636Z",
     "iopub.status.idle": "2024-01-17T00:21:08.865509Z",
     "shell.execute_reply": "2024-01-17T00:21:08.865271Z"
    },
    "papermill": {
     "duration": 0.011336,
     "end_time": "2024-01-17T00:21:08.866039",
     "exception": false,
     "start_time": "2024-01-17T00:21:08.854703",
     "status": "completed"
    },
    "tags": []
   },
   "outputs": [],
   "source": [
    "model_id = 'meta-llama/Llama-2-7b-hf'"
   ]
  },
  {
   "cell_type": "code",
   "execution_count": 13,
   "id": "51c10f7f-2551-4aa4-aef2-29c888b57a12",
   "metadata": {
    "execution": {
     "iopub.execute_input": "2024-01-17T00:21:08.871770Z",
     "iopub.status.busy": "2024-01-17T00:21:08.871608Z",
     "iopub.status.idle": "2024-01-17T00:21:12.547847Z",
     "shell.execute_reply": "2024-01-17T00:21:12.547566Z"
    },
    "papermill": {
     "duration": 3.679858,
     "end_time": "2024-01-17T00:21:12.548466",
     "exception": false,
     "start_time": "2024-01-17T00:21:08.868608",
     "status": "completed"
    },
    "tags": []
   },
   "outputs": [
    {
     "name": "stderr",
     "output_type": "stream",
     "text": [
      "\r",
      "Loading checkpoint shards:   0%|                                                                                                                                                                                       | 0/2 [00:00<?, ?it/s]"
     ]
    },
    {
     "name": "stderr",
     "output_type": "stream",
     "text": [
      "\r",
      "Loading checkpoint shards:  50%|███████████████████████████████████████████████████████████████████████████████████████▌                                                                                       | 1/2 [00:01<00:01,  1.70s/it]"
     ]
    },
    {
     "name": "stderr",
     "output_type": "stream",
     "text": [
      "\r",
      "Loading checkpoint shards: 100%|███████████████████████████████████████████████████████████████████████████████████████████████████████████████████████████████████████████████████████████████████████████████| 2/2 [00:02<00:00,  1.08s/it]"
     ]
    },
    {
     "name": "stderr",
     "output_type": "stream",
     "text": [
      "\r",
      "Loading checkpoint shards: 100%|███████████████████████████████████████████████████████████████████████████████████████████████████████████████████████████████████████████████████████████████████████████████| 2/2 [00:02<00:00,  1.17s/it]"
     ]
    },
    {
     "name": "stderr",
     "output_type": "stream",
     "text": [
      "\n"
     ]
    }
   ],
   "source": [
    "model = AutoModelForCausalLM.from_pretrained(\n",
    "    model_id,\n",
    "    device_map=\"auto\",\n",
    "    trust_remote_code=True,\n",
    "    low_cpu_mem_usage=True,\n",
    "    torch_dtype=torch.bfloat16,\n",
    ")"
   ]
  },
  {
   "cell_type": "markdown",
   "id": "f79dbbb0-6dac-4f78-a862-8201088c9d57",
   "metadata": {
    "papermill": {
     "duration": 0.008656,
     "end_time": "2024-01-17T00:21:12.560165",
     "exception": false,
     "start_time": "2024-01-17T00:21:12.551509",
     "status": "completed"
    },
    "tags": []
   },
   "source": [
    "Training the full models is expensive, but if you have a GPU that can fit the full model, you can skip this part. Let's just train the last 8 layers of the model (Llama2-7B has 32)"
   ]
  },
  {
   "cell_type": "code",
   "execution_count": 14,
   "id": "4c4de41e-5c10-478b-9524-f4a3119d277c",
   "metadata": {
    "execution": {
     "iopub.execute_input": "2024-01-17T00:21:12.566820Z",
     "iopub.status.busy": "2024-01-17T00:21:12.566652Z",
     "iopub.status.idle": "2024-01-17T00:21:12.569626Z",
     "shell.execute_reply": "2024-01-17T00:21:12.569433Z"
    },
    "papermill": {
     "duration": 0.007278,
     "end_time": "2024-01-17T00:21:12.570433",
     "exception": false,
     "start_time": "2024-01-17T00:21:12.563155",
     "status": "completed"
    },
    "tags": []
   },
   "outputs": [],
   "source": [
    "n_freeze = 15\n",
    "\n",
    "# freeze layers (disable gradients)\n",
    "for param in model.parameters(): param.requires_grad = False\n",
    "for param in model.lm_head.parameters(): param.requires_grad = True\n",
    "for param in model.model.layers[n_freeze].parameters(): param.requires_grad = True"
   ]
  },
  {
   "cell_type": "code",
   "execution_count": 15,
   "id": "fd7fc941-65dc-4dee-839d-351bd019a2fb",
   "metadata": {
    "execution": {
     "iopub.execute_input": "2024-01-17T00:21:12.579436Z",
     "iopub.status.busy": "2024-01-17T00:21:12.579356Z",
     "iopub.status.idle": "2024-01-17T00:21:12.580922Z",
     "shell.execute_reply": "2024-01-17T00:21:12.580748Z"
    },
    "papermill": {
     "duration": 0.006503,
     "end_time": "2024-01-17T00:21:12.581422",
     "exception": false,
     "start_time": "2024-01-17T00:21:12.574919",
     "status": "completed"
    },
    "tags": []
   },
   "outputs": [],
   "source": [
    "# Just freeze embeddings for small memory decrease\n",
    "model.model.embed_tokens.weight.requires_grad_(False);"
   ]
  },
  {
   "cell_type": "code",
   "execution_count": 16,
   "id": "fc6c3959-854c-409e-9037-b5c87a6adce5",
   "metadata": {
    "execution": {
     "iopub.execute_input": "2024-01-17T00:21:12.587401Z",
     "iopub.status.busy": "2024-01-17T00:21:12.587279Z",
     "iopub.status.idle": "2024-01-17T00:21:12.591541Z",
     "shell.execute_reply": "2024-01-17T00:21:12.591295Z"
    },
    "papermill": {
     "duration": 0.007943,
     "end_time": "2024-01-17T00:21:12.592091",
     "exception": false,
     "start_time": "2024-01-17T00:21:12.584148",
     "status": "completed"
    },
    "scrolled": true,
    "tags": []
   },
   "outputs": [
    {
     "name": "stdout",
     "output_type": "stream",
     "text": [
      "Total params: 6738.42M, Trainable: 333.46M\n"
     ]
    }
   ],
   "source": [
    "def param_count(m):\n",
    "    params = sum([p.numel() for p in m.parameters()])/1_000_000\n",
    "    trainable_params = sum([p.numel() for p in m.parameters() if p.requires_grad])/1_000_000\n",
    "    print(f\"Total params: {params:.2f}M, Trainable: {trainable_params:.2f}M\")\n",
    "    return params, trainable_params\n",
    "\n",
    "params, trainable_params = param_count(model)"
   ]
  },
  {
   "cell_type": "code",
   "execution_count": 17,
   "id": "5f9c99da",
   "metadata": {
    "execution": {
     "iopub.execute_input": "2024-01-17T00:21:12.598245Z",
     "iopub.status.busy": "2024-01-17T00:21:12.598034Z",
     "iopub.status.idle": "2024-01-17T00:21:12.600098Z",
     "shell.execute_reply": "2024-01-17T00:21:12.599870Z"
    },
    "papermill": {
     "duration": 0.005776,
     "end_time": "2024-01-17T00:21:12.600647",
     "exception": false,
     "start_time": "2024-01-17T00:21:12.594871",
     "status": "completed"
    },
    "tags": []
   },
   "outputs": [
    {
     "name": "stdout",
     "output_type": "stream",
     "text": [
      "1.13.1+cu117\n"
     ]
    }
   ],
   "source": [
    "import torch\n",
    "print(torch.__version__)"
   ]
  },
  {
   "cell_type": "code",
   "execution_count": 18,
   "id": "f07c7e75",
   "metadata": {
    "execution": {
     "iopub.execute_input": "2024-01-17T00:21:12.606757Z",
     "iopub.status.busy": "2024-01-17T00:21:12.606643Z",
     "iopub.status.idle": "2024-01-17T00:21:17.763391Z",
     "shell.execute_reply": "2024-01-17T00:21:17.762876Z"
    },
    "papermill": {
     "duration": 5.161194,
     "end_time": "2024-01-17T00:21:17.764637",
     "exception": false,
     "start_time": "2024-01-17T00:21:12.603443",
     "status": "completed"
    },
    "tags": []
   },
   "outputs": [
    {
     "name": "stdout",
     "output_type": "stream",
     "text": [
      "Requirement already satisfied: transformers in /home/service/miniconda3/envs/llm_research/lib/python3.11/site-packages (4.36.2)\r\n"
     ]
    },
    {
     "name": "stdout",
     "output_type": "stream",
     "text": [
      "Requirement already satisfied: filelock in /home/service/miniconda3/envs/llm_research/lib/python3.11/site-packages (from transformers) (3.9.0)\r\n",
      "Requirement already satisfied: huggingface-hub<1.0,>=0.19.3 in /home/service/miniconda3/envs/llm_research/lib/python3.11/site-packages (from transformers) (0.20.1)\r\n",
      "Requirement already satisfied: numpy>=1.17 in /home/service/miniconda3/envs/llm_research/lib/python3.11/site-packages (from transformers) (1.25.2)\r\n",
      "Requirement already satisfied: packaging>=20.0 in /home/service/miniconda3/envs/llm_research/lib/python3.11/site-packages (from transformers) (23.1)\r\n",
      "Requirement already satisfied: pyyaml>=5.1 in /home/service/miniconda3/envs/llm_research/lib/python3.11/site-packages (from transformers) (6.0.1)\r\n",
      "Requirement already satisfied: regex!=2019.12.17 in /home/service/miniconda3/envs/llm_research/lib/python3.11/site-packages (from transformers) (2023.8.8)\r\n",
      "Requirement already satisfied: requests in /home/service/miniconda3/envs/llm_research/lib/python3.11/site-packages (from transformers) (2.31.0)\r\n",
      "Requirement already satisfied: tokenizers<0.19,>=0.14 in /home/service/miniconda3/envs/llm_research/lib/python3.11/site-packages (from transformers) (0.15.0)\r\n",
      "Requirement already satisfied: safetensors>=0.3.1 in /home/service/miniconda3/envs/llm_research/lib/python3.11/site-packages (from transformers) (0.3.1)\r\n",
      "Requirement already satisfied: tqdm>=4.27 in /home/service/miniconda3/envs/llm_research/lib/python3.11/site-packages (from transformers) (4.66.1)\r\n"
     ]
    },
    {
     "name": "stdout",
     "output_type": "stream",
     "text": [
      "Requirement already satisfied: fsspec>=2023.5.0 in /home/service/miniconda3/envs/llm_research/lib/python3.11/site-packages (from huggingface-hub<1.0,>=0.19.3->transformers) (2023.6.0)\r\n",
      "Requirement already satisfied: typing-extensions>=3.7.4.3 in /home/service/miniconda3/envs/llm_research/lib/python3.11/site-packages (from huggingface-hub<1.0,>=0.19.3->transformers) (4.7.1)\r\n"
     ]
    },
    {
     "name": "stdout",
     "output_type": "stream",
     "text": [
      "Requirement already satisfied: charset-normalizer<4,>=2 in /home/service/miniconda3/envs/llm_research/lib/python3.11/site-packages (from requests->transformers) (2.0.4)\r\n",
      "Requirement already satisfied: idna<4,>=2.5 in /home/service/miniconda3/envs/llm_research/lib/python3.11/site-packages (from requests->transformers) (3.4)\r\n",
      "Requirement already satisfied: urllib3<3,>=1.21.1 in /home/service/miniconda3/envs/llm_research/lib/python3.11/site-packages (from requests->transformers) (1.26.16)\r\n",
      "Requirement already satisfied: certifi>=2017.4.17 in /home/service/miniconda3/envs/llm_research/lib/python3.11/site-packages (from requests->transformers) (2023.7.22)\r\n"
     ]
    },
    {
     "name": "stdout",
     "output_type": "stream",
     "text": [
      "Looking in indexes: https://pip.repos.neuron.amazonaws.com\r\n"
     ]
    },
    {
     "name": "stdout",
     "output_type": "stream",
     "text": [
      "Collecting transformers-neuronx\r\n",
      "  Using cached https://pip.repos.neuron.amazonaws.com/transformers-neuronx/transformers_neuronx-0.9.474-py3-none-any.whl (194 kB)\r\n",
      "Requirement already satisfied: accelerate in /home/service/miniconda3/envs/llm_research/lib/python3.11/site-packages (from transformers-neuronx) (0.26.1)\r\n",
      "Requirement already satisfied: safetensors in /home/service/miniconda3/envs/llm_research/lib/python3.11/site-packages (from transformers-neuronx) (0.3.1)\r\n"
     ]
    },
    {
     "name": "stdout",
     "output_type": "stream",
     "text": [
      "Collecting torch-neuronx (from transformers-neuronx)\r\n"
     ]
    },
    {
     "name": "stdout",
     "output_type": "stream",
     "text": [
      "  Using cached https://pip.repos.neuron.amazonaws.com/torch-neuronx/torch_neuronx-1.13.1.1.13.0-py3-none-any.whl (2.5 MB)\r\n",
      "Requirement already satisfied: transformers in /home/service/miniconda3/envs/llm_research/lib/python3.11/site-packages (from transformers-neuronx) (4.36.2)\r\n",
      "Requirement already satisfied: numpy>=1.17 in /home/service/miniconda3/envs/llm_research/lib/python3.11/site-packages (from accelerate->transformers-neuronx) (1.25.2)\r\n",
      "Requirement already satisfied: packaging>=20.0 in /home/service/miniconda3/envs/llm_research/lib/python3.11/site-packages (from accelerate->transformers-neuronx) (23.1)\r\n",
      "Requirement already satisfied: psutil in /home/service/miniconda3/envs/llm_research/lib/python3.11/site-packages (from accelerate->transformers-neuronx) (5.9.0)\r\n",
      "Requirement already satisfied: pyyaml in /home/service/miniconda3/envs/llm_research/lib/python3.11/site-packages (from accelerate->transformers-neuronx) (6.0.1)\r\n",
      "Requirement already satisfied: torch>=1.10.0 in /home/service/miniconda3/envs/llm_research/lib/python3.11/site-packages (from accelerate->transformers-neuronx) (1.13.1)\r\n",
      "Requirement already satisfied: huggingface-hub in /home/service/miniconda3/envs/llm_research/lib/python3.11/site-packages (from accelerate->transformers-neuronx) (0.20.1)\r\n"
     ]
    },
    {
     "name": "stdout",
     "output_type": "stream",
     "text": [
      "INFO: pip is looking at multiple versions of torch-neuronx to determine which version is compatible with other requirements. This could take a while.\r\n"
     ]
    },
    {
     "name": "stdout",
     "output_type": "stream",
     "text": [
      "  Using cached https://pip.repos.neuron.amazonaws.com/torch-neuronx/torch_neuronx-1.13.1.1.12.1-py3-none-any.whl (2.5 MB)\r\n"
     ]
    },
    {
     "name": "stdout",
     "output_type": "stream",
     "text": [
      "  Using cached https://pip.repos.neuron.amazonaws.com/torch-neuronx/torch_neuronx-1.13.1.1.12.0-py3-none-any.whl (2.5 MB)\r\n"
     ]
    },
    {
     "name": "stdout",
     "output_type": "stream",
     "text": [
      "  Using cached https://pip.repos.neuron.amazonaws.com/torch-neuronx/torch_neuronx-1.13.1.1.11.0-py3-none-any.whl (2.4 MB)\r\n"
     ]
    },
    {
     "name": "stdout",
     "output_type": "stream",
     "text": [
      "  Using cached https://pip.repos.neuron.amazonaws.com/torch-neuronx/torch_neuronx-1.13.1.1.10.1-py3-none-any.whl (2.4 MB)\r\n"
     ]
    },
    {
     "name": "stdout",
     "output_type": "stream",
     "text": [
      "  Using cached https://pip.repos.neuron.amazonaws.com/torch-neuronx/torch_neuronx-1.13.1.1.10.0-py3-none-any.whl (2.4 MB)\r\n"
     ]
    },
    {
     "name": "stdout",
     "output_type": "stream",
     "text": [
      "  Using cached https://pip.repos.neuron.amazonaws.com/torch-neuronx/torch_neuronx-1.13.1.1.9.1-py3-none-any.whl (2.4 MB)\r\n"
     ]
    },
    {
     "name": "stdout",
     "output_type": "stream",
     "text": [
      "  Using cached https://pip.repos.neuron.amazonaws.com/torch-neuronx/torch_neuronx-1.13.1.1.9.0-py3-none-any.whl (2.4 MB)\r\n",
      "INFO: pip is still looking at multiple versions of torch-neuronx to determine which version is compatible with other requirements. This could take a while.\r\n",
      "  Using cached https://pip.repos.neuron.amazonaws.com/torch-neuronx/torch_neuronx-1.13.1.1.8.0-py3-none-any.whl (1.5 MB)\r\n"
     ]
    },
    {
     "name": "stdout",
     "output_type": "stream",
     "text": [
      "  Using cached https://pip.repos.neuron.amazonaws.com/torch-neuronx/torch_neuronx-1.13.1.1.7.0-py3-none-any.whl (1.5 MB)\r\n"
     ]
    },
    {
     "name": "stdout",
     "output_type": "stream",
     "text": [
      "  Using cached https://pip.repos.neuron.amazonaws.com/torch-neuronx/torch_neuronx-1.13.0.1.6.1-py3-none-any.whl (1.5 MB)\r\n"
     ]
    },
    {
     "name": "stdout",
     "output_type": "stream",
     "text": [
      "  Using cached https://pip.repos.neuron.amazonaws.com/torch-neuronx/torch_neuronx-1.13.0.1.6.0-py3-none-any.whl (1.5 MB)\r\n"
     ]
    },
    {
     "name": "stdout",
     "output_type": "stream",
     "text": [
      "  Using cached https://pip.repos.neuron.amazonaws.com/torch-neuronx/torch_neuronx-1.13.0.1.5.0-py3-none-any.whl (1.5 MB)\r\n",
      "INFO: This is taking longer than usual. You might need to provide the dependency resolver with stricter constraints to reduce runtime. See https://pip.pypa.io/warnings/backtracking for guidance. If you want to abort this run, press Ctrl + C.\r\n",
      "  Using cached https://pip.repos.neuron.amazonaws.com/torch-neuronx/torch_neuronx-1.13.0.1.4.0-py3-none-any.whl (1.4 MB)\r\n"
     ]
    },
    {
     "name": "stdout",
     "output_type": "stream",
     "text": [
      "  Using cached https://pip.repos.neuron.amazonaws.com/torch-neuronx/torch_neuronx-1.12.0.1.4.0-py3-none-any.whl (1.4 MB)\r\n"
     ]
    },
    {
     "name": "stdout",
     "output_type": "stream",
     "text": [
      "  Using cached https://pip.repos.neuron.amazonaws.com/torch-neuronx/torch_neuronx-1.11.0.1.2.0-py3-none-any.whl (55 kB)\r\n"
     ]
    },
    {
     "name": "stdout",
     "output_type": "stream",
     "text": [
      "Collecting torch-neuron~=1.11.0 (from torch-neuronx->transformers-neuronx)\r\n"
     ]
    },
    {
     "name": "stdout",
     "output_type": "stream",
     "text": [
      "  Using cached https://pip.repos.neuron.amazonaws.com/torch-neuron/torch_neuron-1.11.0.2.9.17.0-py3-none-linux_x86_64.whl (38.4 MB)\r\n"
     ]
    },
    {
     "name": "stdout",
     "output_type": "stream",
     "text": [
      "Collecting torch-neuronx (from transformers-neuronx)\r\n"
     ]
    },
    {
     "name": "stdout",
     "output_type": "stream",
     "text": [
      "  Using cached https://pip.repos.neuron.amazonaws.com/torch-neuronx/torch_neuronx-1.11.0.1.1.1-py3-none-any.whl (55 kB)\r\n"
     ]
    },
    {
     "name": "stdout",
     "output_type": "stream",
     "text": [
      "Collecting transformers-neuronx\r\n"
     ]
    },
    {
     "name": "stdout",
     "output_type": "stream",
     "text": [
      "  Using cached https://pip.repos.neuron.amazonaws.com/transformers-neuronx/transformers_neuronx-0.8.268-py3-none-any.whl (154 kB)\r\n"
     ]
    },
    {
     "name": "stdout",
     "output_type": "stream",
     "text": [
      "  Using cached https://pip.repos.neuron.amazonaws.com/transformers-neuronx/transformers_neuronx-0.7.216-py3-none-any.whl (158 kB)\r\n"
     ]
    },
    {
     "name": "stdout",
     "output_type": "stream",
     "text": [
      "  Using cached https://pip.repos.neuron.amazonaws.com/transformers-neuronx/transformers_neuronx-0.7.84-py3-none-any.whl (150 kB)\r\n"
     ]
    },
    {
     "name": "stdout",
     "output_type": "stream",
     "text": [
      "  Using cached https://pip.repos.neuron.amazonaws.com/transformers-neuronx/transformers_neuronx-0.6.106-py3-none-any.whl (142 kB)\r\n"
     ]
    },
    {
     "name": "stdout",
     "output_type": "stream",
     "text": [
      "  Using cached https://pip.repos.neuron.amazonaws.com/transformers-neuronx/transformers_neuronx-0.5.58-py3-none-any.whl (120 kB)\r\n"
     ]
    },
    {
     "name": "stdout",
     "output_type": "stream",
     "text": [
      "  Using cached https://pip.repos.neuron.amazonaws.com/transformers-neuronx/transformers_neuronx-0.4.149-py3-none-any.whl (119 kB)\r\n"
     ]
    },
    {
     "name": "stdout",
     "output_type": "stream",
     "text": [
      "  Using cached https://pip.repos.neuron.amazonaws.com/transformers-neuronx/transformers_neuronx-0.4.60-py3-none-any.whl (91 kB)\r\n"
     ]
    },
    {
     "name": "stdout",
     "output_type": "stream",
     "text": [
      "  Using cached https://pip.repos.neuron.amazonaws.com/transformers-neuronx/transformers_neuronx-0.3.32-py3-none-any.whl (71 kB)\r\n"
     ]
    },
    {
     "name": "stdout",
     "output_type": "stream",
     "text": [
      "\u001b[31mERROR: Cannot install accelerate==0.26.1 and transformers-neuronx because these package versions have conflicting dependencies.\u001b[0m\u001b[31m\r\n",
      "\u001b[0m\r\n",
      "The conflict is caused by:\r\n",
      "    torch-neuronx 1.13.1.1.13.0 depends on torch-xla==1.13.1+torchneurond\r\n",
      "    torch-neuronx 1.13.1.1.12.1 depends on torch-xla==1.13.1+torchneuronc\r\n",
      "    torch-neuronx 1.13.1.1.12.0 depends on torch-xla==1.13.1+torchneuronc\r\n",
      "    torch-neuronx 1.13.1.1.11.0 depends on torch-xla==1.13.1+torchneuronb\r\n",
      "    torch-neuronx 1.13.1.1.10.1 depends on torch-xla==1.13.1+torchneurona\r\n",
      "    torch-neuronx 1.13.1.1.10.0 depends on torch-xla==1.13.1+torchneurona\r\n",
      "    torch-neuronx 1.13.1.1.9.1 depends on torch-xla==1.13.1+torchneuron8\r\n",
      "    torch-neuronx 1.13.1.1.9.0 depends on torch-xla==1.13.1+torchneuron8\r\n",
      "    torch-neuronx 1.13.1.1.8.0 depends on torch-xla==1.13.1+torchneuron7\r\n",
      "    torch-neuronx 1.13.1.1.7.0 depends on torch-xla==1.13.1+torchneuron6\r\n",
      "    torch-neuronx 1.13.0.1.6.1 depends on torch-xla==1.13.0+torchneuron5\r\n",
      "    torch-neuronx 1.13.0.1.6.0 depends on torch-xla==1.13.0+torchneuron5\r\n",
      "    torch-neuronx 1.13.0.1.5.0 depends on torch-xla==1.13.0+torchneuron4\r\n",
      "    torch-neuronx 1.13.0.1.4.0 depends on torch-xla==1.13.0+torchneuron3\r\n",
      "    accelerate 0.26.1 depends on torch>=1.10.0\r\n",
      "    torch-neuronx 1.12.0.1.4.0 depends on torch==1.12.*\r\n",
      "    torch-neuronx 1.11.0.1.2.0 depends on torch-xla==1.11.0+torchneuron3\r\n",
      "    torch-neuronx 1.11.0.1.1.1 depends on torch-xla==1.11.0+torchneuron2\r\n",
      "\r\n",
      "To fix this you could try to:\r\n",
      "1. loosen the range of package versions you've specified\r\n",
      "2. remove package versions to allow pip attempt to solve the dependency conflict\r\n",
      "\r\n",
      "\u001b[31mERROR: ResolutionImpossible: for help visit https://pip.pypa.io/en/latest/topics/dependency-resolution/#dealing-with-dependency-conflicts\u001b[0m\u001b[31m\r\n",
      "\u001b[0m"
     ]
    }
   ],
   "source": [
    "# !pip uninstall transformers -y\n",
    "!pip install transformers\n",
    "!pip install -i https://pip.repos.neuron.amazonaws.com transformers-neuronx"
   ]
  },
  {
   "cell_type": "code",
   "execution_count": 19,
   "id": "ac3525d7-3028-499e-8749-c6fbc21a26d5",
   "metadata": {
    "execution": {
     "iopub.execute_input": "2024-01-17T00:21:17.780311Z",
     "iopub.status.busy": "2024-01-17T00:21:17.780176Z",
     "iopub.status.idle": "2024-01-17T00:21:17.965250Z",
     "shell.execute_reply": "2024-01-17T00:21:17.964846Z"
    },
    "papermill": {
     "duration": 0.195323,
     "end_time": "2024-01-17T00:21:17.966407",
     "exception": false,
     "start_time": "2024-01-17T00:21:17.771084",
     "status": "completed"
    },
    "tags": []
   },
   "outputs": [],
   "source": [
    "# from transformers import TrainingArguments\n",
    "from trl import SFTTrainer"
   ]
  },
  {
   "cell_type": "code",
   "execution_count": 20,
   "id": "4c57893e-6e42-4cda-83c8-1e51a86d2da2",
   "metadata": {
    "execution": {
     "iopub.execute_input": "2024-01-17T00:21:17.982179Z",
     "iopub.status.busy": "2024-01-17T00:21:17.981899Z",
     "iopub.status.idle": "2024-01-17T00:21:17.984608Z",
     "shell.execute_reply": "2024-01-17T00:21:17.984325Z"
    },
    "papermill": {
     "duration": 0.012515,
     "end_time": "2024-01-17T00:21:17.985359",
     "exception": false,
     "start_time": "2024-01-17T00:21:17.972844",
     "status": "completed"
    },
    "tags": []
   },
   "outputs": [
    {
     "name": "stdout",
     "output_type": "stream",
     "text": [
      "350\n",
      "changing total batch size down to 100 to save time\n"
     ]
    }
   ],
   "source": [
    "batch_size = 32\n",
    "\n",
    "total_num_steps = 11_210 // batch_size\n",
    "print(total_num_steps)\n",
    "print(\"changing total batch size down to 100 to save time\")"
   ]
  },
  {
   "cell_type": "code",
   "execution_count": 21,
   "id": "154326d0",
   "metadata": {
    "execution": {
     "iopub.execute_input": "2024-01-17T00:21:17.998315Z",
     "iopub.status.busy": "2024-01-17T00:21:17.998080Z",
     "iopub.status.idle": "2024-01-17T00:21:18.021737Z",
     "shell.execute_reply": "2024-01-17T00:21:18.021395Z"
    },
    "papermill": {
     "duration": 0.031165,
     "end_time": "2024-01-17T00:21:18.022770",
     "exception": false,
     "start_time": "2024-01-17T00:21:17.991605",
     "status": "completed"
    },
    "tags": []
   },
   "outputs": [],
   "source": [
    "from cti.transformers.transformers.src.transformers import TrainingArguments"
   ]
  },
  {
   "cell_type": "code",
   "execution_count": 22,
   "id": "098dea68",
   "metadata": {
    "execution": {
     "iopub.execute_input": "2024-01-17T00:21:18.052281Z",
     "iopub.status.busy": "2024-01-17T00:21:18.052172Z",
     "iopub.status.idle": "2024-01-17T00:21:18.053956Z",
     "shell.execute_reply": "2024-01-17T00:21:18.053608Z"
    },
    "papermill": {
     "duration": 0.025923,
     "end_time": "2024-01-17T00:21:18.054839",
     "exception": false,
     "start_time": "2024-01-17T00:21:18.028916",
     "status": "completed"
    },
    "tags": []
   },
   "outputs": [],
   "source": [
    "# !pip uninstall torch_xla -y\n",
    "# !pip install -i https://pip.repos.neuron.amazonaws.com torch-xla"
   ]
  },
  {
   "cell_type": "code",
   "execution_count": 23,
   "id": "c86339ca-27e5-496b-9559-3a65bb3c26a1",
   "metadata": {
    "execution": {
     "iopub.execute_input": "2024-01-17T00:21:18.067794Z",
     "iopub.status.busy": "2024-01-17T00:21:18.067685Z",
     "iopub.status.idle": "2024-01-17T00:21:18.072736Z",
     "shell.execute_reply": "2024-01-17T00:21:18.072410Z"
    },
    "papermill": {
     "duration": 0.012575,
     "end_time": "2024-01-17T00:21:18.073701",
     "exception": false,
     "start_time": "2024-01-17T00:21:18.061126",
     "status": "completed"
    },
    "tags": []
   },
   "outputs": [],
   "source": [
    "output_dir = \"/home/service/BioLlama/utilities/finetuning/finetuned_models/\"\n",
    "training_args = TrainingArguments(\n",
    "    output_dir=output_dir,\n",
    "    per_device_train_batch_size=batch_size,\n",
    "    per_device_eval_batch_size=batch_size//4,\n",
    "    bf16=True,\n",
    "    learning_rate=2e-4,\n",
    "    lr_scheduler_type=\"cosine\",\n",
    "    warmup_steps=total_num_steps // 10,\n",
    "    # num_train_epochs=1,\n",
    "    max_steps=total_num_steps,\n",
    "    gradient_accumulation_steps=1,\n",
    "    gradient_checkpointing=True,\n",
    "    evaluation_strategy=\"steps\",\n",
    "    eval_steps=total_num_steps // 3,\n",
    "    # logging strategies\n",
    "    logging_dir=f\"{output_dir}/logs\",\n",
    "    logging_strategy=\"steps\",\n",
    "    logging_steps=1,\n",
    "    save_strategy=\"epoch\", #changed to epoch so we save every epoch i guess?\n",
    ")"
   ]
  },
  {
   "cell_type": "code",
   "execution_count": null,
   "id": "eb13c056",
   "metadata": {
    "papermill": {
     "duration": 0.006032,
     "end_time": "2024-01-17T00:21:18.085932",
     "exception": false,
     "start_time": "2024-01-17T00:21:18.079900",
     "status": "completed"
    },
    "tags": []
   },
   "outputs": [],
   "source": []
  },
  {
   "cell_type": "code",
   "execution_count": 24,
   "id": "e35a9b70-f36b-4bfd-857f-c80d3450e111",
   "metadata": {
    "execution": {
     "iopub.execute_input": "2024-01-17T00:21:18.094173Z",
     "iopub.status.busy": "2024-01-17T00:21:18.094032Z",
     "iopub.status.idle": "2024-01-17T00:21:18.336158Z",
     "shell.execute_reply": "2024-01-17T00:21:18.335751Z"
    },
    "papermill": {
     "duration": 0.247046,
     "end_time": "2024-01-17T00:21:18.336774",
     "exception": false,
     "start_time": "2024-01-17T00:21:18.089728",
     "status": "completed"
    },
    "tags": []
   },
   "outputs": [
    {
     "name": "stderr",
     "output_type": "stream",
     "text": [
      "/home/service/miniconda3/envs/llm_research/lib/python3.11/site-packages/trl/trainer/sft_trainer.py:212: UserWarning: You passed `packing=True` to the SFTTrainer, and you are training your model with `max_steps` strategy. The dataset will be iterated until the `max_steps` are reached.\n",
      "  warnings.warn(\n"
     ]
    }
   ],
   "source": [
    "# from utils import LLMSampleCB, token_accuracy\n",
    "\n",
    "trainer = SFTTrainer(\n",
    "    model,\n",
    "    train_dataset=train_dataset,\n",
    "    eval_dataset=eval_dataset,\n",
    "    packing=True,\n",
    "    max_seq_length=1024,\n",
    "    args=training_args,\n",
    "    formatting_func=create_prompt,\n",
    "    # compute_metrics=token_accuracy,\n",
    ")"
   ]
  },
  {
   "cell_type": "code",
   "execution_count": 25,
   "id": "c0dbcb42-1e94-4f68-9edf-102f337ebf14",
   "metadata": {
    "execution": {
     "iopub.execute_input": "2024-01-17T00:21:18.350113Z",
     "iopub.status.busy": "2024-01-17T00:21:18.350000Z",
     "iopub.status.idle": "2024-01-17T00:21:18.354122Z",
     "shell.execute_reply": "2024-01-17T00:21:18.353853Z"
    },
    "papermill": {
     "duration": 0.013774,
     "end_time": "2024-01-17T00:21:18.354691",
     "exception": false,
     "start_time": "2024-01-17T00:21:18.340917",
     "status": "completed"
    },
    "tags": []
   },
   "outputs": [],
   "source": [
    "# remove answers\n",
    "def create_prompt_no_anwer(row):\n",
    "    row[\"output\"] = \"\"\n",
    "    return {\"text\": create_prompt(row)}\n",
    "\n",
    "test_dataset = eval_dataset.map(create_prompt_no_anwer)"
   ]
  },
  {
   "cell_type": "code",
   "execution_count": 26,
   "id": "9d6748da-bbc7-4962-bbc4-1650ff18aefe",
   "metadata": {
    "execution": {
     "iopub.execute_input": "2024-01-17T00:21:18.362759Z",
     "iopub.status.busy": "2024-01-17T00:21:18.362651Z",
     "iopub.status.idle": "2024-01-17T00:21:18.364381Z",
     "shell.execute_reply": "2024-01-17T00:21:18.364124Z"
    },
    "papermill": {
     "duration": 0.006433,
     "end_time": "2024-01-17T00:21:18.364918",
     "exception": false,
     "start_time": "2024-01-17T00:21:18.358485",
     "status": "completed"
    },
    "tags": []
   },
   "outputs": [],
   "source": [
    "# wandb_callback = LLMSampleCB(trainer, test_dataset, num_samples=10, max_new_tokens=256)"
   ]
  },
  {
   "cell_type": "code",
   "execution_count": 27,
   "id": "df6d1457-3c7a-47e6-994b-334dbe9c3d5e",
   "metadata": {
    "execution": {
     "iopub.execute_input": "2024-01-17T00:21:18.373077Z",
     "iopub.status.busy": "2024-01-17T00:21:18.372966Z",
     "iopub.status.idle": "2024-01-17T00:21:18.374733Z",
     "shell.execute_reply": "2024-01-17T00:21:18.374391Z"
    },
    "papermill": {
     "duration": 0.006625,
     "end_time": "2024-01-17T00:21:18.375361",
     "exception": false,
     "start_time": "2024-01-17T00:21:18.368736",
     "status": "completed"
    },
    "tags": []
   },
   "outputs": [],
   "source": [
    "# trainer.add_callback(wandb_callback)"
   ]
  },
  {
   "cell_type": "code",
   "execution_count": 28,
   "id": "d5754789-2e15-4bc9-800c-01f8ffc625e8",
   "metadata": {
    "execution": {
     "iopub.execute_input": "2024-01-17T00:21:18.383781Z",
     "iopub.status.busy": "2024-01-17T00:21:18.383531Z"
    },
    "papermill": {
     "duration": null,
     "end_time": null,
     "exception": false,
     "start_time": "2024-01-17T00:21:18.379291",
     "status": "running"
    },
    "tags": []
   },
   "outputs": [
    {
     "name": "stderr",
     "output_type": "stream",
     "text": [
      "You're using a LlamaTokenizerFast tokenizer. Please note that with a fast tokenizer, using the `__call__` method is faster than using a method to encode the text followed by a call to the `pad` method to get a padded encoding.\n"
     ]
    },
    {
     "name": "stderr",
     "output_type": "stream",
     "text": [
      "`use_cache=True` is incompatible with gradient checkpointing. Setting `use_cache=False`...\n"
     ]
    },
    {
     "name": "stderr",
     "output_type": "stream",
     "text": [
      "/home/service/miniconda3/envs/llm_research/lib/python3.11/site-packages/torch/utils/checkpoint.py:31: UserWarning: None of the inputs have requires_grad=True. Gradients will be None\n",
      "  warnings.warn(\"None of the inputs have requires_grad=True. Gradients will be None\")\n"
     ]
    },
    {
     "data": {
      "text/html": [
       "\n",
       "    <div>\n",
       "      \n",
       "      <progress value='7' max='350' style='width:300px; height:20px; vertical-align: middle;'></progress>\n",
       "      [  7/350 00:25 < 28:48, 0.20 it/s, Epoch 0.00/1]\n",
       "    </div>\n",
       "    <table border=\"1\" class=\"dataframe\">\n",
       "  <thead>\n",
       " <tr style=\"text-align: left;\">\n",
       "      <th>Step</th>\n",
       "      <th>Training Loss</th>\n",
       "      <th>Validation Loss</th>\n",
       "    </tr>\n",
       "  </thead>\n",
       "  <tbody>\n",
       "  </tbody>\n",
       "</table><p>"
      ],
      "text/plain": [
       "<IPython.core.display.HTML object>"
      ]
     },
     "metadata": {},
     "output_type": "display_data"
    }
   ],
   "source": [
    "trainer.train()\n",
    "wandb.finish()"
   ]
  },
  {
   "cell_type": "code",
   "execution_count": null,
   "id": "a81beabc",
   "metadata": {
    "papermill": {
     "duration": null,
     "end_time": null,
     "exception": null,
     "start_time": null,
     "status": "pending"
    },
    "tags": []
   },
   "outputs": [],
   "source": [
    "import os\n",
    "print(os.path.abspath(output_dir))"
   ]
  },
  {
   "cell_type": "code",
   "execution_count": null,
   "id": "684ca6fe",
   "metadata": {
    "papermill": {
     "duration": null,
     "end_time": null,
     "exception": null,
     "start_time": null,
     "status": "pending"
    },
    "tags": []
   },
   "outputs": [],
   "source": [
    "trainer.save_model(output_dir)\n",
    "#print contents of output_dir\n",
    "!ls -l $output_dir\n",
    "#print full path of output_dir\n",
    "# !pwd $output_dir"
   ]
  }
 ],
 "metadata": {
  "kernelspec": {
   "display_name": "Python 3",
   "language": "python",
   "name": "python3"
  },
  "language_info": {
   "codemirror_mode": {
    "name": "ipython",
    "version": 3
   },
   "file_extension": ".py",
   "mimetype": "text/x-python",
   "name": "python",
   "nbconvert_exporter": "python",
   "pygments_lexer": "ipython3",
   "version": "3.11.4"
  },
  "papermill": {
   "default_parameters": {},
   "duration": null,
   "end_time": null,
   "environment_variables": {},
   "exception": null,
   "input_path": "Alpaca_finetunning_with_WandB_and_HF.ipynb",
   "output_path": "Alpaca_finetunning_with_WandB_and_HF.ipynb",
   "parameters": {},
   "start_time": "2024-01-17T00:20:58.376570",
   "version": "2.5.0"
  }
 },
 "nbformat": 4,
 "nbformat_minor": 5
}