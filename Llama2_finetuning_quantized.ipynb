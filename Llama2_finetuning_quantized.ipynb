{
 "cells": [
  {
   "cell_type": "code",
   "execution_count": 1,
   "metadata": {},
   "outputs": [
    {
     "name": "stderr",
     "output_type": "stream",
     "text": [
      "/home/service/miniconda3/envs/llm_research/lib/python3.11/site-packages/tqdm/auto.py:21: TqdmWarning: IProgress not found. Please update jupyter and ipywidgets. See https://ipywidgets.readthedocs.io/en/stable/user_install.html\n",
      "  from .autonotebook import tqdm as notebook_tqdm\n"
     ]
    }
   ],
   "source": [
    "import torch\n",
    "from transformers import  get_linear_schedule_with_warmup # for training\n",
    "from torch.cuda.amp import autocast\n",
    "from transformers import (\n",
    "    AutoModelForCausalLM,\n",
    "    AutoTokenizer,\n",
    "    BitsAndBytesConfig,\n",
    ")\n",
    "import os\n",
    "from datasets import load_dataset"
   ]
  },
  {
   "cell_type": "code",
   "execution_count": 2,
   "metadata": {},
   "outputs": [
    {
     "name": "stderr",
     "output_type": "stream",
     "text": [
      "Failed to detect the name of this notebook, you can set it manually with the WANDB_NOTEBOOK_NAME environment variable to enable code saving.\n",
      "\u001b[34m\u001b[1mwandb\u001b[0m: Currently logged in as: \u001b[33mnelectric\u001b[0m (\u001b[33mneelectric\u001b[0m). Use \u001b[1m`wandb login --relogin`\u001b[0m to force relogin\n"
     ]
    },
    {
     "data": {
      "text/html": [
       "wandb version 0.16.3 is available!  To upgrade, please run:\n",
       " $ pip install wandb --upgrade"
      ],
      "text/plain": [
       "<IPython.core.display.HTML object>"
      ]
     },
     "metadata": {},
     "output_type": "display_data"
    },
    {
     "data": {
      "text/html": [
       "Tracking run with wandb version 0.16.1"
      ],
      "text/plain": [
       "<IPython.core.display.HTML object>"
      ]
     },
     "metadata": {},
     "output_type": "display_data"
    },
    {
     "data": {
      "text/html": [
       "Run data is saved locally in <code>/home/service/BioLlama/wandb/run-20240207_184340-h734mah5</code>"
      ],
      "text/plain": [
       "<IPython.core.display.HTML object>"
      ]
     },
     "metadata": {},
     "output_type": "display_data"
    },
    {
     "data": {
      "text/html": [
       "Syncing run <strong><a href='https://wandb.ai/neelectric/biollama_ft/runs/h734mah5' target=\"_blank\">glowing-fire-105</a></strong> to <a href='https://wandb.ai/neelectric/biollama_ft' target=\"_blank\">Weights & Biases</a> (<a href='https://wandb.me/run' target=\"_blank\">docs</a>)<br/>"
      ],
      "text/plain": [
       "<IPython.core.display.HTML object>"
      ]
     },
     "metadata": {},
     "output_type": "display_data"
    },
    {
     "data": {
      "text/html": [
       " View project at <a href='https://wandb.ai/neelectric/biollama_ft' target=\"_blank\">https://wandb.ai/neelectric/biollama_ft</a>"
      ],
      "text/plain": [
       "<IPython.core.display.HTML object>"
      ]
     },
     "metadata": {},
     "output_type": "display_data"
    },
    {
     "data": {
      "text/html": [
       " View run at <a href='https://wandb.ai/neelectric/biollama_ft/runs/h734mah5' target=\"_blank\">https://wandb.ai/neelectric/biollama_ft/runs/h734mah5</a>"
      ],
      "text/plain": [
       "<IPython.core.display.HTML object>"
      ]
     },
     "metadata": {},
     "output_type": "display_data"
    },
    {
     "data": {
      "text/html": [
       "<button onClick=\"this.nextSibling.style.display='block';this.style.display='none';\">Display W&B run</button><iframe src='https://wandb.ai/neelectric/biollama_ft/runs/h734mah5?jupyter=true' style='border:none;width:100%;height:420px;display:none;'></iframe>"
      ],
      "text/plain": [
       "<wandb.sdk.wandb_run.Run at 0x7fcd6b13ec90>"
      ]
     },
     "execution_count": 2,
     "metadata": {},
     "output_type": "execute_result"
    }
   ],
   "source": [
    "import wandb\n",
    "wandb.init(project=\"biollama_ft\", # the project I am working on\n",
    "           tags=[\"hf_sft\", \"Llama2\"]) # the Hyperparameters I want to keep track of\n",
    "# artifact = wandb.use_artifact('Neelectric/MedQA-USMLE', type='dataset')\n",
    "# artifact_dir = artifact.download()"
   ]
  },
  {
   "cell_type": "code",
   "execution_count": 3,
   "metadata": {},
   "outputs": [],
   "source": [
    "from utilities.parse_benchmark import parse_benchmark\n",
    "\n",
    "benchmark = \"MedQA\"\n",
    "artifact_dir = os.getcwd() + \"/benchmarks/MedQA-USMLE/\"\n",
    "#dataset = load_dataset(\"Neelectric/MedQA-USMLE\")\n",
    "medqa = load_dataset(\"json\", data_dir=artifact_dir)\n"
   ]
  },
  {
   "cell_type": "code",
   "execution_count": 4,
   "metadata": {},
   "outputs": [
    {
     "name": "stdout",
     "output_type": "stream",
     "text": [
      "10178\n",
      "1272\n"
     ]
    }
   ],
   "source": [
    "train_dataset = medqa[\"train\"]\n",
    "eval_dataset = medqa[\"validation\"]\n",
    "#print sizes\n",
    "print(len(train_dataset))\n",
    "print(len(eval_dataset))"
   ]
  },
  {
   "cell_type": "code",
   "execution_count": 5,
   "metadata": {},
   "outputs": [
    {
     "name": "stdout",
     "output_type": "stream",
     "text": [
      "================================================================================\n",
      "Your GPU supports bfloat16: accelerate training with bf16=True\n",
      "================================================================================\n"
     ]
    }
   ],
   "source": [
    "device = torch.device(\"cuda\" if torch.cuda.is_available() else \"cpu\")\n",
    "\n",
    "################################################################################\n",
    "# bitsandbytes parameters\n",
    "################################################################################\n",
    "\n",
    "\n",
    "\n",
    "# Load tokenizer and model with QLoRA configuration\n",
    "compute_dtype = getattr(torch, \"float16\")\n",
    "bnb_config = BitsAndBytesConfig(\n",
    "    load_in_4bit=True,\n",
    "    bnb_4bit_quant_type=\"nf4\",\n",
    "    bnb_4bit_compute_dtype=\"float16\",\n",
    "    bnb_4bit_use_double_quant=False,\n",
    ")\n",
    "\n",
    "bf16 = False\n",
    "fp16 = True\n",
    "# Check GPU compatibility with bfloat16\n",
    "if compute_dtype == torch.float16:\n",
    "    major, _ = torch.cuda.get_device_capability()\n",
    "    if major >= 8:\n",
    "        print(\"=\" * 80)\n",
    "        print(\"Your GPU supports bfloat16: accelerate training with bf16=True\")\n",
    "        print(\"=\" * 80)\n",
    "        bf16 = True\n",
    "        fp16 = False\n"
   ]
  },
  {
   "cell_type": "code",
   "execution_count": 6,
   "metadata": {},
   "outputs": [
    {
     "name": "stderr",
     "output_type": "stream",
     "text": [
      "Loading checkpoint shards: 100%|██████████| 2/2 [00:03<00:00,  1.91s/it]\n"
     ]
    }
   ],
   "source": [
    "# Load the entire model on the GPU 0\n",
    "# device_map = {\"\": 0} # lets load on the next\n",
    "# device = torch.device('cuda:0')\n",
    "\n",
    "# Load base model\n",
    "if bf16:\n",
    "    torch_dtype=torch.bfloat16\n",
    "else:\n",
    "    torch_dtype=torch.float16\n",
    "\n",
    "# This works, this is training the qunatised model\n",
    "model = AutoModelForCausalLM.from_pretrained(\n",
    "    'meta-llama/Llama-2-7b-chat-hf',\n",
    "    torch_dtype=torch_dtype,\n",
    "    quantization_config=bnb_config,\n",
    "    device_map=\"auto\"\n",
    ")\n"
   ]
  },
  {
   "cell_type": "code",
   "execution_count": 10,
   "metadata": {},
   "outputs": [
    {
     "name": "stdout",
     "output_type": "stream",
     "text": [
      "\tWeight: model.embed_tokens.weight | Size: torch.Size([32000, 4096]) | Trainable: True\n",
      "\tWeight: model.layers.0.self_attn.q_proj.weight | Size: torch.Size([8388608, 1]) | Trainable: False\n",
      "\tWeight: model.layers.0.self_attn.k_proj.weight | Size: torch.Size([8388608, 1]) | Trainable: False\n",
      "\tWeight: model.layers.0.self_attn.v_proj.weight | Size: torch.Size([8388608, 1]) | Trainable: False\n",
      "\tWeight: model.layers.0.self_attn.o_proj.weight | Size: torch.Size([8388608, 1]) | Trainable: False\n",
      "\tWeight: model.layers.0.mlp.gate_proj.weight | Size: torch.Size([22544384, 1]) | Trainable: False\n",
      "\tWeight: model.layers.0.mlp.up_proj.weight | Size: torch.Size([22544384, 1]) | Trainable: False\n",
      "\tWeight: model.layers.0.mlp.down_proj.weight | Size: torch.Size([22544384, 1]) | Trainable: False\n",
      "\tWeight: model.layers.0.input_layernorm.weight | Size: torch.Size([4096]) | Trainable: True\n",
      "\tWeight: model.layers.0.post_attention_layernorm.weight | Size: torch.Size([4096]) | Trainable: True\n",
      "\tWeight: model.layers.1.self_attn.q_proj.weight | Size: torch.Size([8388608, 1]) | Trainable: False\n",
      "\tWeight: model.layers.1.self_attn.k_proj.weight | Size: torch.Size([8388608, 1]) | Trainable: False\n",
      "\tWeight: model.layers.1.self_attn.v_proj.weight | Size: torch.Size([8388608, 1]) | Trainable: False\n",
      "\tWeight: model.layers.1.self_attn.o_proj.weight | Size: torch.Size([8388608, 1]) | Trainable: False\n",
      "\tWeight: model.layers.1.mlp.gate_proj.weight | Size: torch.Size([22544384, 1]) | Trainable: False\n",
      "\tWeight: model.layers.1.mlp.up_proj.weight | Size: torch.Size([22544384, 1]) | Trainable: False\n",
      "\tWeight: model.layers.1.mlp.down_proj.weight | Size: torch.Size([22544384, 1]) | Trainable: False\n",
      "\tWeight: model.layers.1.input_layernorm.weight | Size: torch.Size([4096]) | Trainable: True\n",
      "\tWeight: model.layers.1.post_attention_layernorm.weight | Size: torch.Size([4096]) | Trainable: True\n",
      "\tWeight: model.layers.2.self_attn.q_proj.weight | Size: torch.Size([8388608, 1]) | Trainable: False\n",
      "\tWeight: model.layers.2.self_attn.k_proj.weight | Size: torch.Size([8388608, 1]) | Trainable: False\n",
      "\tWeight: model.layers.2.self_attn.v_proj.weight | Size: torch.Size([8388608, 1]) | Trainable: False\n",
      "\tWeight: model.layers.2.self_attn.o_proj.weight | Size: torch.Size([8388608, 1]) | Trainable: False\n",
      "\tWeight: model.layers.2.mlp.gate_proj.weight | Size: torch.Size([22544384, 1]) | Trainable: False\n",
      "\tWeight: model.layers.2.mlp.up_proj.weight | Size: torch.Size([22544384, 1]) | Trainable: False\n",
      "\tWeight: model.layers.2.mlp.down_proj.weight | Size: torch.Size([22544384, 1]) | Trainable: False\n",
      "\tWeight: model.layers.2.input_layernorm.weight | Size: torch.Size([4096]) | Trainable: True\n",
      "\tWeight: model.layers.2.post_attention_layernorm.weight | Size: torch.Size([4096]) | Trainable: True\n",
      "\tWeight: model.layers.3.self_attn.q_proj.weight | Size: torch.Size([8388608, 1]) | Trainable: False\n",
      "\tWeight: model.layers.3.self_attn.k_proj.weight | Size: torch.Size([8388608, 1]) | Trainable: False\n",
      "\tWeight: model.layers.3.self_attn.v_proj.weight | Size: torch.Size([8388608, 1]) | Trainable: False\n",
      "\tWeight: model.layers.3.self_attn.o_proj.weight | Size: torch.Size([8388608, 1]) | Trainable: False\n",
      "\tWeight: model.layers.3.mlp.gate_proj.weight | Size: torch.Size([22544384, 1]) | Trainable: False\n",
      "\tWeight: model.layers.3.mlp.up_proj.weight | Size: torch.Size([22544384, 1]) | Trainable: False\n",
      "\tWeight: model.layers.3.mlp.down_proj.weight | Size: torch.Size([22544384, 1]) | Trainable: False\n",
      "\tWeight: model.layers.3.input_layernorm.weight | Size: torch.Size([4096]) | Trainable: True\n",
      "\tWeight: model.layers.3.post_attention_layernorm.weight | Size: torch.Size([4096]) | Trainable: True\n",
      "\tWeight: model.layers.4.self_attn.q_proj.weight | Size: torch.Size([8388608, 1]) | Trainable: False\n",
      "\tWeight: model.layers.4.self_attn.k_proj.weight | Size: torch.Size([8388608, 1]) | Trainable: False\n",
      "\tWeight: model.layers.4.self_attn.v_proj.weight | Size: torch.Size([8388608, 1]) | Trainable: False\n",
      "\tWeight: model.layers.4.self_attn.o_proj.weight | Size: torch.Size([8388608, 1]) | Trainable: False\n",
      "\tWeight: model.layers.4.mlp.gate_proj.weight | Size: torch.Size([22544384, 1]) | Trainable: False\n",
      "\tWeight: model.layers.4.mlp.up_proj.weight | Size: torch.Size([22544384, 1]) | Trainable: False\n",
      "\tWeight: model.layers.4.mlp.down_proj.weight | Size: torch.Size([22544384, 1]) | Trainable: False\n",
      "\tWeight: model.layers.4.input_layernorm.weight | Size: torch.Size([4096]) | Trainable: True\n",
      "\tWeight: model.layers.4.post_attention_layernorm.weight | Size: torch.Size([4096]) | Trainable: True\n",
      "\tWeight: model.layers.5.self_attn.q_proj.weight | Size: torch.Size([8388608, 1]) | Trainable: False\n",
      "\tWeight: model.layers.5.self_attn.k_proj.weight | Size: torch.Size([8388608, 1]) | Trainable: False\n",
      "\tWeight: model.layers.5.self_attn.v_proj.weight | Size: torch.Size([8388608, 1]) | Trainable: False\n",
      "\tWeight: model.layers.5.self_attn.o_proj.weight | Size: torch.Size([8388608, 1]) | Trainable: False\n",
      "\tWeight: model.layers.5.mlp.gate_proj.weight | Size: torch.Size([22544384, 1]) | Trainable: False\n",
      "\tWeight: model.layers.5.mlp.up_proj.weight | Size: torch.Size([22544384, 1]) | Trainable: False\n",
      "\tWeight: model.layers.5.mlp.down_proj.weight | Size: torch.Size([22544384, 1]) | Trainable: False\n",
      "\tWeight: model.layers.5.input_layernorm.weight | Size: torch.Size([4096]) | Trainable: True\n",
      "\tWeight: model.layers.5.post_attention_layernorm.weight | Size: torch.Size([4096]) | Trainable: True\n",
      "\tWeight: model.layers.6.self_attn.q_proj.weight | Size: torch.Size([8388608, 1]) | Trainable: False\n",
      "\tWeight: model.layers.6.self_attn.k_proj.weight | Size: torch.Size([8388608, 1]) | Trainable: False\n",
      "\tWeight: model.layers.6.self_attn.v_proj.weight | Size: torch.Size([8388608, 1]) | Trainable: False\n",
      "\tWeight: model.layers.6.self_attn.o_proj.weight | Size: torch.Size([8388608, 1]) | Trainable: False\n",
      "\tWeight: model.layers.6.mlp.gate_proj.weight | Size: torch.Size([22544384, 1]) | Trainable: False\n",
      "\tWeight: model.layers.6.mlp.up_proj.weight | Size: torch.Size([22544384, 1]) | Trainable: False\n",
      "\tWeight: model.layers.6.mlp.down_proj.weight | Size: torch.Size([22544384, 1]) | Trainable: False\n",
      "\tWeight: model.layers.6.input_layernorm.weight | Size: torch.Size([4096]) | Trainable: True\n",
      "\tWeight: model.layers.6.post_attention_layernorm.weight | Size: torch.Size([4096]) | Trainable: True\n",
      "\tWeight: model.layers.7.self_attn.q_proj.weight | Size: torch.Size([8388608, 1]) | Trainable: False\n",
      "\tWeight: model.layers.7.self_attn.k_proj.weight | Size: torch.Size([8388608, 1]) | Trainable: False\n",
      "\tWeight: model.layers.7.self_attn.v_proj.weight | Size: torch.Size([8388608, 1]) | Trainable: False\n",
      "\tWeight: model.layers.7.self_attn.o_proj.weight | Size: torch.Size([8388608, 1]) | Trainable: False\n",
      "\tWeight: model.layers.7.mlp.gate_proj.weight | Size: torch.Size([22544384, 1]) | Trainable: False\n",
      "\tWeight: model.layers.7.mlp.up_proj.weight | Size: torch.Size([22544384, 1]) | Trainable: False\n",
      "\tWeight: model.layers.7.mlp.down_proj.weight | Size: torch.Size([22544384, 1]) | Trainable: False\n",
      "\tWeight: model.layers.7.input_layernorm.weight | Size: torch.Size([4096]) | Trainable: True\n",
      "\tWeight: model.layers.7.post_attention_layernorm.weight | Size: torch.Size([4096]) | Trainable: True\n",
      "\tWeight: model.layers.8.self_attn.q_proj.weight | Size: torch.Size([8388608, 1]) | Trainable: False\n",
      "\tWeight: model.layers.8.self_attn.k_proj.weight | Size: torch.Size([8388608, 1]) | Trainable: False\n",
      "\tWeight: model.layers.8.self_attn.v_proj.weight | Size: torch.Size([8388608, 1]) | Trainable: False\n",
      "\tWeight: model.layers.8.self_attn.o_proj.weight | Size: torch.Size([8388608, 1]) | Trainable: False\n",
      "\tWeight: model.layers.8.mlp.gate_proj.weight | Size: torch.Size([22544384, 1]) | Trainable: False\n",
      "\tWeight: model.layers.8.mlp.up_proj.weight | Size: torch.Size([22544384, 1]) | Trainable: False\n",
      "\tWeight: model.layers.8.mlp.down_proj.weight | Size: torch.Size([22544384, 1]) | Trainable: False\n",
      "\tWeight: model.layers.8.input_layernorm.weight | Size: torch.Size([4096]) | Trainable: True\n",
      "\tWeight: model.layers.8.post_attention_layernorm.weight | Size: torch.Size([4096]) | Trainable: True\n",
      "\tWeight: model.layers.9.self_attn.q_proj.weight | Size: torch.Size([8388608, 1]) | Trainable: False\n",
      "\tWeight: model.layers.9.self_attn.k_proj.weight | Size: torch.Size([8388608, 1]) | Trainable: False\n",
      "\tWeight: model.layers.9.self_attn.v_proj.weight | Size: torch.Size([8388608, 1]) | Trainable: False\n",
      "\tWeight: model.layers.9.self_attn.o_proj.weight | Size: torch.Size([8388608, 1]) | Trainable: False\n",
      "\tWeight: model.layers.9.mlp.gate_proj.weight | Size: torch.Size([22544384, 1]) | Trainable: False\n",
      "\tWeight: model.layers.9.mlp.up_proj.weight | Size: torch.Size([22544384, 1]) | Trainable: False\n",
      "\tWeight: model.layers.9.mlp.down_proj.weight | Size: torch.Size([22544384, 1]) | Trainable: False\n",
      "\tWeight: model.layers.9.input_layernorm.weight | Size: torch.Size([4096]) | Trainable: True\n",
      "\tWeight: model.layers.9.post_attention_layernorm.weight | Size: torch.Size([4096]) | Trainable: True\n",
      "\tWeight: model.layers.10.self_attn.q_proj.weight | Size: torch.Size([8388608, 1]) | Trainable: False\n",
      "\tWeight: model.layers.10.self_attn.k_proj.weight | Size: torch.Size([8388608, 1]) | Trainable: False\n",
      "\tWeight: model.layers.10.self_attn.v_proj.weight | Size: torch.Size([8388608, 1]) | Trainable: False\n",
      "\tWeight: model.layers.10.self_attn.o_proj.weight | Size: torch.Size([8388608, 1]) | Trainable: False\n",
      "\tWeight: model.layers.10.mlp.gate_proj.weight | Size: torch.Size([22544384, 1]) | Trainable: False\n",
      "\tWeight: model.layers.10.mlp.up_proj.weight | Size: torch.Size([22544384, 1]) | Trainable: False\n",
      "\tWeight: model.layers.10.mlp.down_proj.weight | Size: torch.Size([22544384, 1]) | Trainable: False\n",
      "\tWeight: model.layers.10.input_layernorm.weight | Size: torch.Size([4096]) | Trainable: True\n",
      "\tWeight: model.layers.10.post_attention_layernorm.weight | Size: torch.Size([4096]) | Trainable: True\n",
      "\tWeight: model.layers.11.self_attn.q_proj.weight | Size: torch.Size([8388608, 1]) | Trainable: False\n",
      "\tWeight: model.layers.11.self_attn.k_proj.weight | Size: torch.Size([8388608, 1]) | Trainable: False\n",
      "\tWeight: model.layers.11.self_attn.v_proj.weight | Size: torch.Size([8388608, 1]) | Trainable: False\n",
      "\tWeight: model.layers.11.self_attn.o_proj.weight | Size: torch.Size([8388608, 1]) | Trainable: False\n",
      "\tWeight: model.layers.11.mlp.gate_proj.weight | Size: torch.Size([22544384, 1]) | Trainable: False\n",
      "\tWeight: model.layers.11.mlp.up_proj.weight | Size: torch.Size([22544384, 1]) | Trainable: False\n",
      "\tWeight: model.layers.11.mlp.down_proj.weight | Size: torch.Size([22544384, 1]) | Trainable: False\n",
      "\tWeight: model.layers.11.input_layernorm.weight | Size: torch.Size([4096]) | Trainable: True\n",
      "\tWeight: model.layers.11.post_attention_layernorm.weight | Size: torch.Size([4096]) | Trainable: True\n",
      "\tWeight: model.layers.12.self_attn.q_proj.weight | Size: torch.Size([8388608, 1]) | Trainable: False\n",
      "\tWeight: model.layers.12.self_attn.k_proj.weight | Size: torch.Size([8388608, 1]) | Trainable: False\n",
      "\tWeight: model.layers.12.self_attn.v_proj.weight | Size: torch.Size([8388608, 1]) | Trainable: False\n",
      "\tWeight: model.layers.12.self_attn.o_proj.weight | Size: torch.Size([8388608, 1]) | Trainable: False\n",
      "\tWeight: model.layers.12.mlp.gate_proj.weight | Size: torch.Size([22544384, 1]) | Trainable: False\n",
      "\tWeight: model.layers.12.mlp.up_proj.weight | Size: torch.Size([22544384, 1]) | Trainable: False\n",
      "\tWeight: model.layers.12.mlp.down_proj.weight | Size: torch.Size([22544384, 1]) | Trainable: False\n",
      "\tWeight: model.layers.12.input_layernorm.weight | Size: torch.Size([4096]) | Trainable: True\n",
      "\tWeight: model.layers.12.post_attention_layernorm.weight | Size: torch.Size([4096]) | Trainable: True\n",
      "\tWeight: model.layers.13.self_attn.q_proj.weight | Size: torch.Size([8388608, 1]) | Trainable: False\n",
      "\tWeight: model.layers.13.self_attn.k_proj.weight | Size: torch.Size([8388608, 1]) | Trainable: False\n",
      "\tWeight: model.layers.13.self_attn.v_proj.weight | Size: torch.Size([8388608, 1]) | Trainable: False\n",
      "\tWeight: model.layers.13.self_attn.o_proj.weight | Size: torch.Size([8388608, 1]) | Trainable: False\n",
      "\tWeight: model.layers.13.mlp.gate_proj.weight | Size: torch.Size([22544384, 1]) | Trainable: False\n",
      "\tWeight: model.layers.13.mlp.up_proj.weight | Size: torch.Size([22544384, 1]) | Trainable: False\n",
      "\tWeight: model.layers.13.mlp.down_proj.weight | Size: torch.Size([22544384, 1]) | Trainable: False\n",
      "\tWeight: model.layers.13.input_layernorm.weight | Size: torch.Size([4096]) | Trainable: True\n",
      "\tWeight: model.layers.13.post_attention_layernorm.weight | Size: torch.Size([4096]) | Trainable: True\n",
      "\tWeight: model.layers.14.self_attn.q_proj.weight | Size: torch.Size([8388608, 1]) | Trainable: False\n",
      "\tWeight: model.layers.14.self_attn.k_proj.weight | Size: torch.Size([8388608, 1]) | Trainable: False\n",
      "\tWeight: model.layers.14.self_attn.v_proj.weight | Size: torch.Size([8388608, 1]) | Trainable: False\n",
      "\tWeight: model.layers.14.self_attn.o_proj.weight | Size: torch.Size([8388608, 1]) | Trainable: False\n",
      "\tWeight: model.layers.14.mlp.gate_proj.weight | Size: torch.Size([22544384, 1]) | Trainable: False\n",
      "\tWeight: model.layers.14.mlp.up_proj.weight | Size: torch.Size([22544384, 1]) | Trainable: False\n",
      "\tWeight: model.layers.14.mlp.down_proj.weight | Size: torch.Size([22544384, 1]) | Trainable: False\n",
      "\tWeight: model.layers.14.input_layernorm.weight | Size: torch.Size([4096]) | Trainable: True\n",
      "\tWeight: model.layers.14.post_attention_layernorm.weight | Size: torch.Size([4096]) | Trainable: True\n",
      "\tWeight: model.layers.15.self_attn.q_proj.weight | Size: torch.Size([8388608, 1]) | Trainable: False\n",
      "\tWeight: model.layers.15.self_attn.k_proj.weight | Size: torch.Size([8388608, 1]) | Trainable: False\n",
      "\tWeight: model.layers.15.self_attn.v_proj.weight | Size: torch.Size([8388608, 1]) | Trainable: False\n",
      "\tWeight: model.layers.15.self_attn.o_proj.weight | Size: torch.Size([8388608, 1]) | Trainable: False\n",
      "\tWeight: model.layers.15.mlp.gate_proj.weight | Size: torch.Size([22544384, 1]) | Trainable: False\n",
      "\tWeight: model.layers.15.mlp.up_proj.weight | Size: torch.Size([22544384, 1]) | Trainable: False\n",
      "\tWeight: model.layers.15.mlp.down_proj.weight | Size: torch.Size([22544384, 1]) | Trainable: False\n",
      "\tWeight: model.layers.15.input_layernorm.weight | Size: torch.Size([4096]) | Trainable: True\n",
      "\tWeight: model.layers.15.post_attention_layernorm.weight | Size: torch.Size([4096]) | Trainable: True\n",
      "\tWeight: model.layers.16.self_attn.q_proj.weight | Size: torch.Size([8388608, 1]) | Trainable: False\n",
      "\tWeight: model.layers.16.self_attn.k_proj.weight | Size: torch.Size([8388608, 1]) | Trainable: False\n",
      "\tWeight: model.layers.16.self_attn.v_proj.weight | Size: torch.Size([8388608, 1]) | Trainable: False\n",
      "\tWeight: model.layers.16.self_attn.o_proj.weight | Size: torch.Size([8388608, 1]) | Trainable: False\n",
      "\tWeight: model.layers.16.mlp.gate_proj.weight | Size: torch.Size([22544384, 1]) | Trainable: False\n",
      "\tWeight: model.layers.16.mlp.up_proj.weight | Size: torch.Size([22544384, 1]) | Trainable: False\n",
      "\tWeight: model.layers.16.mlp.down_proj.weight | Size: torch.Size([22544384, 1]) | Trainable: False\n",
      "\tWeight: model.layers.16.input_layernorm.weight | Size: torch.Size([4096]) | Trainable: True\n",
      "\tWeight: model.layers.16.post_attention_layernorm.weight | Size: torch.Size([4096]) | Trainable: True\n",
      "\tWeight: model.layers.17.self_attn.q_proj.weight | Size: torch.Size([8388608, 1]) | Trainable: False\n",
      "\tWeight: model.layers.17.self_attn.k_proj.weight | Size: torch.Size([8388608, 1]) | Trainable: False\n",
      "\tWeight: model.layers.17.self_attn.v_proj.weight | Size: torch.Size([8388608, 1]) | Trainable: False\n",
      "\tWeight: model.layers.17.self_attn.o_proj.weight | Size: torch.Size([8388608, 1]) | Trainable: False\n",
      "\tWeight: model.layers.17.mlp.gate_proj.weight | Size: torch.Size([22544384, 1]) | Trainable: False\n",
      "\tWeight: model.layers.17.mlp.up_proj.weight | Size: torch.Size([22544384, 1]) | Trainable: False\n",
      "\tWeight: model.layers.17.mlp.down_proj.weight | Size: torch.Size([22544384, 1]) | Trainable: False\n",
      "\tWeight: model.layers.17.input_layernorm.weight | Size: torch.Size([4096]) | Trainable: True\n",
      "\tWeight: model.layers.17.post_attention_layernorm.weight | Size: torch.Size([4096]) | Trainable: True\n",
      "\tWeight: model.layers.18.self_attn.q_proj.weight | Size: torch.Size([8388608, 1]) | Trainable: False\n",
      "\tWeight: model.layers.18.self_attn.k_proj.weight | Size: torch.Size([8388608, 1]) | Trainable: False\n",
      "\tWeight: model.layers.18.self_attn.v_proj.weight | Size: torch.Size([8388608, 1]) | Trainable: False\n",
      "\tWeight: model.layers.18.self_attn.o_proj.weight | Size: torch.Size([8388608, 1]) | Trainable: False\n",
      "\tWeight: model.layers.18.mlp.gate_proj.weight | Size: torch.Size([22544384, 1]) | Trainable: False\n",
      "\tWeight: model.layers.18.mlp.up_proj.weight | Size: torch.Size([22544384, 1]) | Trainable: False\n",
      "\tWeight: model.layers.18.mlp.down_proj.weight | Size: torch.Size([22544384, 1]) | Trainable: False\n",
      "\tWeight: model.layers.18.input_layernorm.weight | Size: torch.Size([4096]) | Trainable: True\n",
      "\tWeight: model.layers.18.post_attention_layernorm.weight | Size: torch.Size([4096]) | Trainable: True\n",
      "\tWeight: model.layers.19.self_attn.q_proj.weight | Size: torch.Size([8388608, 1]) | Trainable: False\n",
      "\tWeight: model.layers.19.self_attn.k_proj.weight | Size: torch.Size([8388608, 1]) | Trainable: False\n",
      "\tWeight: model.layers.19.self_attn.v_proj.weight | Size: torch.Size([8388608, 1]) | Trainable: False\n",
      "\tWeight: model.layers.19.self_attn.o_proj.weight | Size: torch.Size([8388608, 1]) | Trainable: False\n",
      "\tWeight: model.layers.19.mlp.gate_proj.weight | Size: torch.Size([22544384, 1]) | Trainable: False\n",
      "\tWeight: model.layers.19.mlp.up_proj.weight | Size: torch.Size([22544384, 1]) | Trainable: False\n",
      "\tWeight: model.layers.19.mlp.down_proj.weight | Size: torch.Size([22544384, 1]) | Trainable: False\n",
      "\tWeight: model.layers.19.input_layernorm.weight | Size: torch.Size([4096]) | Trainable: True\n",
      "\tWeight: model.layers.19.post_attention_layernorm.weight | Size: torch.Size([4096]) | Trainable: True\n",
      "\tWeight: model.layers.20.self_attn.q_proj.weight | Size: torch.Size([8388608, 1]) | Trainable: False\n",
      "\tWeight: model.layers.20.self_attn.k_proj.weight | Size: torch.Size([8388608, 1]) | Trainable: False\n",
      "\tWeight: model.layers.20.self_attn.v_proj.weight | Size: torch.Size([8388608, 1]) | Trainable: False\n",
      "\tWeight: model.layers.20.self_attn.o_proj.weight | Size: torch.Size([8388608, 1]) | Trainable: False\n",
      "\tWeight: model.layers.20.mlp.gate_proj.weight | Size: torch.Size([22544384, 1]) | Trainable: False\n",
      "\tWeight: model.layers.20.mlp.up_proj.weight | Size: torch.Size([22544384, 1]) | Trainable: False\n",
      "\tWeight: model.layers.20.mlp.down_proj.weight | Size: torch.Size([22544384, 1]) | Trainable: False\n",
      "\tWeight: model.layers.20.input_layernorm.weight | Size: torch.Size([4096]) | Trainable: True\n",
      "\tWeight: model.layers.20.post_attention_layernorm.weight | Size: torch.Size([4096]) | Trainable: True\n",
      "\tWeight: model.layers.21.self_attn.q_proj.weight | Size: torch.Size([8388608, 1]) | Trainable: False\n",
      "\tWeight: model.layers.21.self_attn.k_proj.weight | Size: torch.Size([8388608, 1]) | Trainable: False\n",
      "\tWeight: model.layers.21.self_attn.v_proj.weight | Size: torch.Size([8388608, 1]) | Trainable: False\n",
      "\tWeight: model.layers.21.self_attn.o_proj.weight | Size: torch.Size([8388608, 1]) | Trainable: False\n",
      "\tWeight: model.layers.21.mlp.gate_proj.weight | Size: torch.Size([22544384, 1]) | Trainable: False\n",
      "\tWeight: model.layers.21.mlp.up_proj.weight | Size: torch.Size([22544384, 1]) | Trainable: False\n",
      "\tWeight: model.layers.21.mlp.down_proj.weight | Size: torch.Size([22544384, 1]) | Trainable: False\n",
      "\tWeight: model.layers.21.input_layernorm.weight | Size: torch.Size([4096]) | Trainable: True\n",
      "\tWeight: model.layers.21.post_attention_layernorm.weight | Size: torch.Size([4096]) | Trainable: True\n",
      "\tWeight: model.layers.22.self_attn.q_proj.weight | Size: torch.Size([8388608, 1]) | Trainable: False\n",
      "\tWeight: model.layers.22.self_attn.k_proj.weight | Size: torch.Size([8388608, 1]) | Trainable: False\n",
      "\tWeight: model.layers.22.self_attn.v_proj.weight | Size: torch.Size([8388608, 1]) | Trainable: False\n",
      "\tWeight: model.layers.22.self_attn.o_proj.weight | Size: torch.Size([8388608, 1]) | Trainable: False\n",
      "\tWeight: model.layers.22.mlp.gate_proj.weight | Size: torch.Size([22544384, 1]) | Trainable: False\n",
      "\tWeight: model.layers.22.mlp.up_proj.weight | Size: torch.Size([22544384, 1]) | Trainable: False\n",
      "\tWeight: model.layers.22.mlp.down_proj.weight | Size: torch.Size([22544384, 1]) | Trainable: False\n",
      "\tWeight: model.layers.22.input_layernorm.weight | Size: torch.Size([4096]) | Trainable: True\n",
      "\tWeight: model.layers.22.post_attention_layernorm.weight | Size: torch.Size([4096]) | Trainable: True\n",
      "\tWeight: model.layers.23.self_attn.q_proj.weight | Size: torch.Size([8388608, 1]) | Trainable: False\n",
      "\tWeight: model.layers.23.self_attn.k_proj.weight | Size: torch.Size([8388608, 1]) | Trainable: False\n",
      "\tWeight: model.layers.23.self_attn.v_proj.weight | Size: torch.Size([8388608, 1]) | Trainable: False\n",
      "\tWeight: model.layers.23.self_attn.o_proj.weight | Size: torch.Size([8388608, 1]) | Trainable: False\n",
      "\tWeight: model.layers.23.mlp.gate_proj.weight | Size: torch.Size([22544384, 1]) | Trainable: False\n",
      "\tWeight: model.layers.23.mlp.up_proj.weight | Size: torch.Size([22544384, 1]) | Trainable: False\n",
      "\tWeight: model.layers.23.mlp.down_proj.weight | Size: torch.Size([22544384, 1]) | Trainable: False\n",
      "\tWeight: model.layers.23.input_layernorm.weight | Size: torch.Size([4096]) | Trainable: True\n",
      "\tWeight: model.layers.23.post_attention_layernorm.weight | Size: torch.Size([4096]) | Trainable: True\n",
      "\tWeight: model.layers.24.self_attn.q_proj.weight | Size: torch.Size([8388608, 1]) | Trainable: False\n",
      "\tWeight: model.layers.24.self_attn.k_proj.weight | Size: torch.Size([8388608, 1]) | Trainable: False\n",
      "\tWeight: model.layers.24.self_attn.v_proj.weight | Size: torch.Size([8388608, 1]) | Trainable: False\n",
      "\tWeight: model.layers.24.self_attn.o_proj.weight | Size: torch.Size([8388608, 1]) | Trainable: False\n",
      "\tWeight: model.layers.24.mlp.gate_proj.weight | Size: torch.Size([22544384, 1]) | Trainable: False\n",
      "\tWeight: model.layers.24.mlp.up_proj.weight | Size: torch.Size([22544384, 1]) | Trainable: False\n",
      "\tWeight: model.layers.24.mlp.down_proj.weight | Size: torch.Size([22544384, 1]) | Trainable: False\n",
      "\tWeight: model.layers.24.input_layernorm.weight | Size: torch.Size([4096]) | Trainable: True\n",
      "\tWeight: model.layers.24.post_attention_layernorm.weight | Size: torch.Size([4096]) | Trainable: True\n",
      "\tWeight: model.layers.25.self_attn.q_proj.weight | Size: torch.Size([8388608, 1]) | Trainable: False\n",
      "\tWeight: model.layers.25.self_attn.k_proj.weight | Size: torch.Size([8388608, 1]) | Trainable: False\n",
      "\tWeight: model.layers.25.self_attn.v_proj.weight | Size: torch.Size([8388608, 1]) | Trainable: False\n",
      "\tWeight: model.layers.25.self_attn.o_proj.weight | Size: torch.Size([8388608, 1]) | Trainable: False\n",
      "\tWeight: model.layers.25.mlp.gate_proj.weight | Size: torch.Size([22544384, 1]) | Trainable: False\n",
      "\tWeight: model.layers.25.mlp.up_proj.weight | Size: torch.Size([22544384, 1]) | Trainable: False\n",
      "\tWeight: model.layers.25.mlp.down_proj.weight | Size: torch.Size([22544384, 1]) | Trainable: False\n",
      "\tWeight: model.layers.25.input_layernorm.weight | Size: torch.Size([4096]) | Trainable: True\n",
      "\tWeight: model.layers.25.post_attention_layernorm.weight | Size: torch.Size([4096]) | Trainable: True\n",
      "\tWeight: model.layers.26.self_attn.q_proj.weight | Size: torch.Size([8388608, 1]) | Trainable: False\n",
      "\tWeight: model.layers.26.self_attn.k_proj.weight | Size: torch.Size([8388608, 1]) | Trainable: False\n",
      "\tWeight: model.layers.26.self_attn.v_proj.weight | Size: torch.Size([8388608, 1]) | Trainable: False\n",
      "\tWeight: model.layers.26.self_attn.o_proj.weight | Size: torch.Size([8388608, 1]) | Trainable: False\n",
      "\tWeight: model.layers.26.mlp.gate_proj.weight | Size: torch.Size([22544384, 1]) | Trainable: False\n",
      "\tWeight: model.layers.26.mlp.up_proj.weight | Size: torch.Size([22544384, 1]) | Trainable: False\n",
      "\tWeight: model.layers.26.mlp.down_proj.weight | Size: torch.Size([22544384, 1]) | Trainable: False\n",
      "\tWeight: model.layers.26.input_layernorm.weight | Size: torch.Size([4096]) | Trainable: True\n",
      "\tWeight: model.layers.26.post_attention_layernorm.weight | Size: torch.Size([4096]) | Trainable: True\n",
      "\tWeight: model.layers.27.self_attn.q_proj.weight | Size: torch.Size([8388608, 1]) | Trainable: False\n",
      "\tWeight: model.layers.27.self_attn.k_proj.weight | Size: torch.Size([8388608, 1]) | Trainable: False\n",
      "\tWeight: model.layers.27.self_attn.v_proj.weight | Size: torch.Size([8388608, 1]) | Trainable: False\n",
      "\tWeight: model.layers.27.self_attn.o_proj.weight | Size: torch.Size([8388608, 1]) | Trainable: False\n",
      "\tWeight: model.layers.27.mlp.gate_proj.weight | Size: torch.Size([22544384, 1]) | Trainable: False\n",
      "\tWeight: model.layers.27.mlp.up_proj.weight | Size: torch.Size([22544384, 1]) | Trainable: False\n",
      "\tWeight: model.layers.27.mlp.down_proj.weight | Size: torch.Size([22544384, 1]) | Trainable: False\n",
      "\tWeight: model.layers.27.input_layernorm.weight | Size: torch.Size([4096]) | Trainable: True\n",
      "\tWeight: model.layers.27.post_attention_layernorm.weight | Size: torch.Size([4096]) | Trainable: True\n",
      "\tWeight: model.layers.28.self_attn.q_proj.weight | Size: torch.Size([8388608, 1]) | Trainable: False\n",
      "\tWeight: model.layers.28.self_attn.k_proj.weight | Size: torch.Size([8388608, 1]) | Trainable: False\n",
      "\tWeight: model.layers.28.self_attn.v_proj.weight | Size: torch.Size([8388608, 1]) | Trainable: False\n",
      "\tWeight: model.layers.28.self_attn.o_proj.weight | Size: torch.Size([8388608, 1]) | Trainable: False\n",
      "\tWeight: model.layers.28.mlp.gate_proj.weight | Size: torch.Size([22544384, 1]) | Trainable: False\n",
      "\tWeight: model.layers.28.mlp.up_proj.weight | Size: torch.Size([22544384, 1]) | Trainable: False\n",
      "\tWeight: model.layers.28.mlp.down_proj.weight | Size: torch.Size([22544384, 1]) | Trainable: False\n",
      "\tWeight: model.layers.28.input_layernorm.weight | Size: torch.Size([4096]) | Trainable: True\n",
      "\tWeight: model.layers.28.post_attention_layernorm.weight | Size: torch.Size([4096]) | Trainable: True\n",
      "\tWeight: model.layers.29.self_attn.q_proj.weight | Size: torch.Size([8388608, 1]) | Trainable: False\n",
      "\tWeight: model.layers.29.self_attn.k_proj.weight | Size: torch.Size([8388608, 1]) | Trainable: False\n",
      "\tWeight: model.layers.29.self_attn.v_proj.weight | Size: torch.Size([8388608, 1]) | Trainable: False\n",
      "\tWeight: model.layers.29.self_attn.o_proj.weight | Size: torch.Size([8388608, 1]) | Trainable: False\n",
      "\tWeight: model.layers.29.mlp.gate_proj.weight | Size: torch.Size([22544384, 1]) | Trainable: False\n",
      "\tWeight: model.layers.29.mlp.up_proj.weight | Size: torch.Size([22544384, 1]) | Trainable: False\n",
      "\tWeight: model.layers.29.mlp.down_proj.weight | Size: torch.Size([22544384, 1]) | Trainable: False\n",
      "\tWeight: model.layers.29.input_layernorm.weight | Size: torch.Size([4096]) | Trainable: True\n",
      "\tWeight: model.layers.29.post_attention_layernorm.weight | Size: torch.Size([4096]) | Trainable: True\n",
      "\tWeight: model.layers.30.self_attn.q_proj.weight | Size: torch.Size([8388608, 1]) | Trainable: False\n",
      "\tWeight: model.layers.30.self_attn.k_proj.weight | Size: torch.Size([8388608, 1]) | Trainable: False\n",
      "\tWeight: model.layers.30.self_attn.v_proj.weight | Size: torch.Size([8388608, 1]) | Trainable: False\n",
      "\tWeight: model.layers.30.self_attn.o_proj.weight | Size: torch.Size([8388608, 1]) | Trainable: False\n",
      "\tWeight: model.layers.30.mlp.gate_proj.weight | Size: torch.Size([22544384, 1]) | Trainable: False\n",
      "\tWeight: model.layers.30.mlp.up_proj.weight | Size: torch.Size([22544384, 1]) | Trainable: False\n",
      "\tWeight: model.layers.30.mlp.down_proj.weight | Size: torch.Size([22544384, 1]) | Trainable: False\n",
      "\tWeight: model.layers.30.input_layernorm.weight | Size: torch.Size([4096]) | Trainable: True\n",
      "\tWeight: model.layers.30.post_attention_layernorm.weight | Size: torch.Size([4096]) | Trainable: True\n",
      "\tWeight: model.layers.31.self_attn.q_proj.weight | Size: torch.Size([8388608, 1]) | Trainable: False\n",
      "\tWeight: model.layers.31.self_attn.k_proj.weight | Size: torch.Size([8388608, 1]) | Trainable: False\n",
      "\tWeight: model.layers.31.self_attn.v_proj.weight | Size: torch.Size([8388608, 1]) | Trainable: False\n",
      "\tWeight: model.layers.31.self_attn.o_proj.weight | Size: torch.Size([8388608, 1]) | Trainable: False\n",
      "\tWeight: model.layers.31.mlp.gate_proj.weight | Size: torch.Size([22544384, 1]) | Trainable: False\n",
      "\tWeight: model.layers.31.mlp.up_proj.weight | Size: torch.Size([22544384, 1]) | Trainable: False\n",
      "\tWeight: model.layers.31.mlp.down_proj.weight | Size: torch.Size([22544384, 1]) | Trainable: False\n",
      "\tWeight: model.layers.31.input_layernorm.weight | Size: torch.Size([4096]) | Trainable: True\n",
      "\tWeight: model.layers.31.post_attention_layernorm.weight | Size: torch.Size([4096]) | Trainable: True\n",
      "\tWeight: model.norm.weight | Size: torch.Size([4096]) | Trainable: True\n",
      "\tWeight: lm_head.weight | Size: torch.Size([32000, 4096]) | Trainable: True\n"
     ]
    }
   ],
   "source": [
    "\n",
    "# Accessing layers and weights\n",
    "\n",
    "for param_name, param in model.named_parameters():\n",
    "    print(f\"\\tWeight: {param_name} | Size: {param.size()} | Trainable: {param.requires_grad}\")  # Print first 2 values of each weight for brevity"
   ]
  }
 ],
 "metadata": {
  "kernelspec": {
   "display_name": "llm_research",
   "language": "python",
   "name": "python3"
  },
  "language_info": {
   "codemirror_mode": {
    "name": "ipython",
    "version": 3
   },
   "file_extension": ".py",
   "mimetype": "text/x-python",
   "name": "python",
   "nbconvert_exporter": "python",
   "pygments_lexer": "ipython3",
   "version": "3.11.4"
  }
 },
 "nbformat": 4,
 "nbformat_minor": 2
}
